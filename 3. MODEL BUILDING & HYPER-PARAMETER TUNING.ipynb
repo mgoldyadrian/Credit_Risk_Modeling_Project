{
 "cells": [
  {
   "cell_type": "markdown",
   "metadata": {},
   "source": [
    "### 3. MODEL BUILDING & HYPER-PARAMETER TUNING"
   ]
  },
  {
   "cell_type": "markdown",
   "metadata": {},
   "source": [
    "Outcome dari model machine learning yang saya buat adalah untuk memprediksi apakah suatu pinjaman memiliki resiko **default** atau **non-default**.\n",
    "\n",
    "* Probability default antara 0 dan 1 (0 = non default, 1 = default) \n",
    "\n",
    "\n",
    " Probability of Default |     Interpretation       | Predicted Loan Status\n",
    " -----------------------| -----------------------  |----------------------\n",
    "0.4                     | Unlikely to default      | 0\n",
    "0.9                     | Very likely to default   | 1\n",
    "0.1                     | Very unlikely to default | 0"
   ]
  },
  {
   "cell_type": "markdown",
   "metadata": {},
   "source": [
    "**A) SPLITTING DATA**"
   ]
  },
  {
   "cell_type": "code",
   "execution_count": 36,
   "metadata": {
    "ExecuteTime": {
     "end_time": "2020-06-19T08:04:30.620856Z",
     "start_time": "2020-06-19T08:04:30.608452Z"
    }
   },
   "outputs": [],
   "source": [
    "X = df_clean.drop(['loan_status'], axis=1)\n",
    "y = df_clean['loan_status']"
   ]
  },
  {
   "cell_type": "markdown",
   "metadata": {},
   "source": [
    "**B) FEATURE SELECTION**"
   ]
  },
  {
   "cell_type": "markdown",
   "metadata": {},
   "source": [
    "* **Feature selection using SelectKBest**"
   ]
  },
  {
   "cell_type": "code",
   "execution_count": 37,
   "metadata": {
    "ExecuteTime": {
     "end_time": "2020-06-19T08:04:30.855744Z",
     "start_time": "2020-06-19T08:04:30.624842Z"
    }
   },
   "outputs": [
    {
     "name": "stdout",
     "output_type": "stream",
     "text": [
      "            Specs         Score\n",
      "1   person_income  3.873329e+07\n",
      "3       loan_amnt  1.503011e+06\n",
      "4   loan_int_rate  3.411030e+03\n",
      "20   loan_grade_D  2.943448e+03\n",
      "21   loan_grade_E  1.025643e+03\n"
     ]
    }
   ],
   "source": [
    "from sklearn.feature_selection import SelectKBest\n",
    "from sklearn.feature_selection import chi2\n",
    "\n",
    "# Apply SelectKBest class to extract top 5 best features\n",
    "bestfeatures = SelectKBest(score_func=chi2, k=5)\n",
    "fit = bestfeatures.fit(X,y)\n",
    "dfscores = pd.DataFrame(fit.scores_)\n",
    "dfcolumns = pd.DataFrame(X.columns)\n",
    "\n",
    "# Concat two dataframes for better visualization \n",
    "featureScores = pd.concat([dfcolumns,dfscores],axis=1)\n",
    "featureScores.columns = ['Specs','Score']  # Naming the dataframe columns\n",
    "print(featureScores.nlargest(5,'Score'))  # Print 10 best features"
   ]
  },
  {
   "cell_type": "markdown",
   "metadata": {
    "ExecuteTime": {
     "end_time": "2020-06-11T14:08:31.129977Z",
     "start_time": "2020-06-11T14:08:31.122902Z"
    }
   },
   "source": [
    "* **Feature selection using ExtraTreeClassifier**"
   ]
  },
  {
   "cell_type": "code",
   "execution_count": 38,
   "metadata": {
    "ExecuteTime": {
     "end_time": "2020-06-19T08:04:37.682385Z",
     "start_time": "2020-06-19T08:04:30.859726Z"
    }
   },
   "outputs": [
    {
     "name": "stdout",
     "output_type": "stream",
     "text": [
      "[0.06125528 0.1169163  0.07492757 0.08865139 0.09102472 0.21059502\n",
      " 0.05095655 0.02143012 0.00082435 0.01357581 0.03645719 0.0216673\n",
      " 0.01019993 0.01030863 0.01883856 0.00831099 0.00949218 0.01066795\n",
      " 0.00672767 0.02262564 0.07050207 0.01944254 0.00524529 0.00347856\n",
      " 0.00696686 0.00891155]\n"
     ]
    },
    {
     "data": {
      "image/png": "[encoded data removed]",
      "text/plain": [
       "<Figure size 432x288 with 1 Axes>"
      ]
     },
     "metadata": {},
     "output_type": "display_data"
    }
   ],
   "source": [
    "from sklearn.ensemble import ExtraTreesClassifier\n",
    "model = ExtraTreesClassifier()\n",
    "model.fit(X,y)\n",
    "print(model.feature_importances_) # Use inbuilt class feature_importances of tree based classifiers\n",
    "\n",
    "# Plot graph of feature importances for better visualization\n",
    "feat_importances = pd.Series(model.feature_importances_, index=X.columns)\n",
    "feat_importances.nlargest(5).plot(kind='barh')\n",
    "plt.show()"
   ]
  },
  {
   "cell_type": "markdown",
   "metadata": {},
   "source": [
    "**C. MODELING**"
   ]
  },
  {
   "cell_type": "markdown",
   "metadata": {
    "ExecuteTime": {
     "end_time": "2020-06-18T03:48:45.154029Z",
     "start_time": "2020-06-18T03:48:45.135584Z"
    }
   },
   "source": [
    "Saya akan menggunakan 3 algoritma ML, yaitu:\n",
    "    1. Logistic Regression\n",
    "    2. Random Forest Classifier\n",
    "    3. XGBoost"
   ]
  },
  {
   "cell_type": "code",
   "execution_count": 39,
   "metadata": {
    "ExecuteTime": {
     "end_time": "2020-06-19T08:04:38.639528Z",
     "start_time": "2020-06-19T08:04:37.685217Z"
    }
   },
   "outputs": [],
   "source": [
    "# Load Library\n",
    "from sklearn.linear_model import LogisticRegression\n",
    "from sklearn.ensemble import RandomForestClassifier\n",
    "import xgboost as xgb\n",
    "from sklearn.metrics import confusion_matrix\n",
    "from sklearn.metrics import classification_report\n",
    "from sklearn.metrics import roc_auc_score, roc_curve, accuracy_score, precision_recall_fscore_support\n",
    "from sklearn.model_selection import train_test_split, cross_val_score, GridSearchCV\n",
    "from sklearn.calibration import calibration_curve\n",
    "import warnings\n",
    "warnings.filterwarnings(\"ignore\")"
   ]
  },
  {
   "cell_type": "markdown",
   "metadata": {},
   "source": [
    "**1) LOGISTIC REGRESSION**"
   ]
  },
  {
   "cell_type": "code",
   "execution_count": 40,
   "metadata": {
    "ExecuteTime": {
     "end_time": "2020-06-19T08:04:38.734107Z",
     "start_time": "2020-06-19T08:04:38.643511Z"
    }
   },
   "outputs": [
    {
     "name": "stdout",
     "output_type": "stream",
     "text": [
      "[-1.94530645e-09]\n",
      "[[ 2.67963667e-09 -4.12701078e-05  9.75995839e-08  1.09127973e-04\n",
      "  -2.29757337e-08]]\n"
     ]
    }
   ],
   "source": [
    "# Create X and y data for the model use result of feature selection with ExtraTreeClassifier\n",
    "X = df_clean[['loan_percent_income','person_income','loan_int_rate','loan_amnt','person_emp_length']]\n",
    "y = df_clean['loan_status']\n",
    "\n",
    "# Use test_train_split to create the training and test sets\n",
    "X_train, X_test, y_train, y_test = train_test_split(X, y, test_size=0.3, random_state=101)\n",
    "\n",
    "# Create and train a new logistic regression\n",
    "log_reg = LogisticRegression().fit(X_train, y_train)\n",
    "\n",
    "# Print the intercept of the model\n",
    "print(log_reg.intercept_)\n",
    "\n",
    "# Print the coeficient of the model\n",
    "print(log_reg.coef_)"
   ]
  },
  {
   "cell_type": "code",
   "execution_count": 41,
   "metadata": {
    "ExecuteTime": {
     "end_time": "2020-06-19T08:04:38.757288Z",
     "start_time": "2020-06-19T08:04:38.738005Z"
    }
   },
   "outputs": [
    {
     "name": "stdout",
     "output_type": "stream",
     "text": [
      "   loan_status  prob_default\n",
      "0            0      0.313930\n",
      "1            0      0.000657\n",
      "2            0      0.243339\n",
      "3            0      0.432167\n",
      "4            0      0.220640\n",
      "5            0      0.395772\n",
      "6            0      0.264517\n",
      "7            0      0.318181\n",
      "8            0      0.142722\n",
      "9            1      0.439584\n"
     ]
    }
   ],
   "source": [
    "# Create predictions of probability for loan status using test data\n",
    "lr_preds = log_reg.predict_proba(X_test)\n",
    "\n",
    "# Create dataframes of first ten predictions, and first ten true labels\n",
    "lr_preds_df = pd.DataFrame(lr_preds[:,1][:10], columns = ['prob_default'])\n",
    "lr_true_df = y_test.head(10)\n",
    "\n",
    "# Concatenate and print the two data frames for comparison\n",
    "print(pd.concat([lr_true_df.reset_index(drop = True), lr_preds_df], axis = 1))"
   ]
  },
  {
   "cell_type": "markdown",
   "metadata": {},
   "source": [
    "**Kesimpulan:**\n",
    "\n",
    "Berdasarkan hasil comparison diatas ada yang probability of defaultnya 0.43 tapi aktualnya adalah 0 (non-default) ada juga yang aktualnya 1 (default). Oleh karena itu, saya coba menentukan treshold di titik mana suatu prediksi termasuk non-default atau default lalu dicompare ulang dengan menggunakan confusion matrix dan classification report."
   ]
  },
  {
   "cell_type": "markdown",
   "metadata": {},
   "source": [
    "* **Treshold = 0.5**\n",
    "\n",
    "    Apabila hasil predict_proba > 0.5 maka termasuk **default**."
   ]
  },
  {
   "cell_type": "code",
   "execution_count": 42,
   "metadata": {
    "ExecuteTime": {
     "end_time": "2020-06-19T08:04:38.827386Z",
     "start_time": "2020-06-19T08:04:38.761559Z"
    }
   },
   "outputs": [
    {
     "name": "stdout",
     "output_type": "stream",
     "text": [
      "\n",
      "\u001b[1m--------------------- Confusion Matrix ---------------------\u001b[0m\n",
      "\n",
      "[[7473  146]\n",
      " [1788  366]]\n",
      "\n",
      "\u001b[1m------------------ Classification Report -------------------\u001b[0m\n",
      "\n",
      "              precision    recall  f1-score   support\n",
      "\n",
      " Non-Default       0.81      0.98      0.89      7619\n",
      "     Default       0.71      0.17      0.27      2154\n",
      "\n",
      "    accuracy                           0.80      9773\n",
      "   macro avg       0.76      0.58      0.58      9773\n",
      "weighted avg       0.79      0.80      0.75      9773\n",
      "\n"
     ]
    }
   ],
   "source": [
    "# Create a dataframe for the probabilities of default\n",
    "lr_preds_df = pd.DataFrame(lr_preds[:,1], columns = ['prob_default'])\n",
    "\n",
    "# Reassign loan status based on the threshold\n",
    "lr_preds_df['loan_status'] = lr_preds_df['prob_default'].apply(lambda x: 1 if x > 0.5 else 0)\n",
    "\n",
    "# Print the confusion matrix\n",
    "print('\\n' + '\\033[1m' + ' Confusion Matrix '.center(60,'-') + '\\033[0m' + '\\n')\n",
    "print(confusion_matrix(y_test, lr_preds_df['loan_status']))\n",
    "\n",
    "# Print the classification report\n",
    "target_names = ['Non-Default', 'Default']\n",
    "print('\\n' + '\\033[1m' + ' Classification Report '.center(60,'-') + '\\033[0m' + '\\n')\n",
    "print(classification_report(y_test, lr_preds_df['loan_status'], target_names=target_names))"
   ]
  },
  {
   "cell_type": "markdown",
   "metadata": {},
   "source": [
    "**Kesimpulan:**\n",
    "\n",
    "Hasil dari recall default hanya 0.17, artinya hasil prediksi default dari model yang saya buat hanya 17% benar dari seluruh yang actualnya default. Maka dari itu saya coba untuk menurunkan treshold menjadi 0.4 untuk melihat apakah ada peningkatan recall default. "
   ]
  },
  {
   "cell_type": "markdown",
   "metadata": {},
   "source": [
    "* **Treshold = 0.4**\n",
    "\n",
    "    Apabila hasil predict_proba > 0.4 maka termasuk **default**."
   ]
  },
  {
   "cell_type": "code",
   "execution_count": 43,
   "metadata": {
    "ExecuteTime": {
     "end_time": "2020-06-19T08:04:38.896425Z",
     "start_time": "2020-06-19T08:04:38.831205Z"
    }
   },
   "outputs": [
    {
     "name": "stdout",
     "output_type": "stream",
     "text": [
      "\n",
      "\u001b[1m--------------------- Confusion Matrix ---------------------\u001b[0m\n",
      "\n",
      "[[7031  588]\n",
      " [1175  979]]\n",
      "\n",
      "\u001b[1m------------------ Classification Report -------------------\u001b[0m\n",
      "\n",
      "              precision    recall  f1-score   support\n",
      "\n",
      " Non-Default       0.86      0.92      0.89      7619\n",
      "     Default       0.62      0.45      0.53      2154\n",
      "\n",
      "    accuracy                           0.82      9773\n",
      "   macro avg       0.74      0.69      0.71      9773\n",
      "weighted avg       0.81      0.82      0.81      9773\n",
      "\n"
     ]
    }
   ],
   "source": [
    "# Create a dataframe for the probabilities of default\n",
    "lr_preds_df = pd.DataFrame(lr_preds[:,1], columns = ['prob_default'])\n",
    "\n",
    "# Reassign loan status based on the threshold\n",
    "lr_preds_df['loan_status'] = lr_preds_df['prob_default'].apply(lambda x: 1 if x > 0.4 else 0)\n",
    "\n",
    "# Print the confusion matrix\n",
    "print('\\n' + '\\033[1m' + ' Confusion Matrix '.center(60,'-') + '\\033[0m' + '\\n')\n",
    "print(confusion_matrix(y_test, lr_preds_df['loan_status']))\n",
    "\n",
    "# Print the classification report\n",
    "target_names = ['Non-Default', 'Default']\n",
    "print('\\n' + '\\033[1m' + ' Classification Report '.center(60,'-') + '\\033[0m' + '\\n')\n",
    "print(classification_report(y_test, lr_preds_df['loan_status'], target_names=target_names))"
   ]
  },
  {
   "cell_type": "markdown",
   "metadata": {},
   "source": [
    "**Kesimpulan:**\n",
    "\n",
    "Terdapat peningkatan recall default dari 0.17 ke 0.46. "
   ]
  },
  {
   "cell_type": "code",
   "execution_count": 44,
   "metadata": {
    "ExecuteTime": {
     "end_time": "2020-06-19T08:04:39.360441Z",
     "start_time": "2020-06-19T08:04:38.899783Z"
    }
   },
   "outputs": [
    {
     "data": {
      "image/png": "[encoded data removed]",
      "text/plain": [
       "<Figure size 432x288 with 1 Axes>"
      ]
     },
     "metadata": {},
     "output_type": "display_data"
    },
    {
     "name": "stdout",
     "output_type": "stream",
     "text": [
      "Accuracy Score: 0.8021078481530748\n",
      "AUC Score: 0.7563946082114268\n"
     ]
    }
   ],
   "source": [
    "# Plot the ROC curve of the probabilities of default\n",
    "lr_prob_default = lr_preds[:,1]\n",
    "fallout, sensitivity, thresholds = roc_curve(y_test, lr_prob_default)\n",
    "plt.plot(fallout, sensitivity, color = 'darkorange')\n",
    "plt.plot([0, 1], [0, 1], linestyle='--')\n",
    "plt.show()\n",
    "\n",
    "# Print the accuracy score the model\n",
    "lr_acc_score = log_reg.score(X_test, y_test)\n",
    "print('Accuracy Score: ' + str(lr_acc_score))\n",
    "\n",
    "# Compute the AUC and store it in a variable\n",
    "lr_auc_score = roc_auc_score(y_test, lr_prob_default)\n",
    "print('AUC Score: ' + str(lr_auc_score))"
   ]
  },
  {
   "cell_type": "markdown",
   "metadata": {},
   "source": [
    "**DEFAULT RECALL IMPACT**\n",
    "\n",
    "Menghitung **unexpected loss** berdasarkan **default recall**."
   ]
  },
  {
   "cell_type": "markdown",
   "metadata": {},
   "source": [
    "   **Treshold = 0.4**"
   ]
  },
  {
   "cell_type": "code",
   "execution_count": 45,
   "metadata": {
    "ExecuteTime": {
     "end_time": "2020-06-19T08:04:39.421310Z",
     "start_time": "2020-06-19T08:04:39.364550Z"
    }
   },
   "outputs": [
    {
     "name": "stdout",
     "output_type": "stream",
     "text": [
      "\n",
      "\u001b[1m--------------------- Confusion Matrix ---------------------\u001b[0m\n",
      "\n",
      "[[7031  588]\n",
      " [1175  979]]\n",
      "\n",
      "\u001b[1m------------------ Classification Report -------------------\u001b[0m\n",
      "\n",
      "              precision    recall  f1-score   support\n",
      "\n",
      " Non-Default       0.86      0.92      0.89      7619\n",
      "     Default       0.62      0.45      0.53      2154\n",
      "\n",
      "    accuracy                           0.82      9773\n",
      "   macro avg       0.74      0.69      0.71      9773\n",
      "weighted avg       0.81      0.82      0.81      9773\n",
      "\n",
      "\n",
      "\u001b[1m------------------- Average Loan Amount --------------------\u001b[0m\n",
      "\n",
      "9588.018051206484\n"
     ]
    }
   ],
   "source": [
    "# Print the confusion matrix\n",
    "print('\\n' + '\\033[1m' + ' Confusion Matrix '.center(60,'-') + '\\033[0m' + '\\n')\n",
    "print(confusion_matrix(y_test, lr_preds_df['loan_status']))\n",
    "\n",
    "# Print the classification report\n",
    "target_names = ['Non-Default', 'Default']\n",
    "print('\\n' + '\\033[1m' + ' Classification Report '.center(60,'-') + '\\033[0m' + '\\n')\n",
    "print(classification_report(y_test, lr_preds_df['loan_status'], target_names=target_names))\n",
    "\n",
    "# Print average loan amount\n",
    "print('\\n' + '\\033[1m' + ' Average Loan Amount '.center(60,'-') + '\\033[0m' + '\\n')\n",
    "print(df_clean['loan_amnt'].mean())"
   ]
  },
  {
   "cell_type": "markdown",
   "metadata": {},
   "source": [
    "Dari hasil confusion matrix dan classification report di atas diketahui:\n",
    "\n",
    "- Number True of Default = **1406** (Hasil dari TP + FN)\n",
    "\n",
    "- Recall Default = **46%** (Hasil dari TP / (TP + FN))\n",
    "\n",
    "- Not Predicted = **54%** \n",
    "\n",
    "Loan Amount | Default Predicted / Not Predicted| Estimated Loss on Default\n",
    "------------|----------------------------------|----------------------------\n",
    "$ 9588      |       0.46/0.54                  | (1406 x 0.54) x 9588   \n",
    "                                               \n",
    "                                                                                   $7.279.593"
   ]
  },
  {
   "cell_type": "markdown",
   "metadata": {},
   "source": [
    "**Treshold = 0.5**"
   ]
  },
  {
   "cell_type": "code",
   "execution_count": 46,
   "metadata": {
    "ExecuteTime": {
     "end_time": "2020-06-19T08:04:39.459706Z",
     "start_time": "2020-06-19T08:04:39.427063Z"
    }
   },
   "outputs": [
    {
     "name": "stdout",
     "output_type": "stream",
     "text": [
      "17143376.27555719\n"
     ]
    }
   ],
   "source": [
    "# Average loan amount\n",
    "avg_loan_amnt = df_clean['loan_amnt'].mean() \n",
    "\n",
    "# Reassign the values of loan status based on the new threshold\n",
    "lr_preds_df['loan_status'] = lr_preds_df['prob_default'].apply(lambda x: 1 if x > 0.5 else 0)\n",
    "\n",
    "# Store the number of actual loan defaults \n",
    "num_defaults = y_test.value_counts()[1]\n",
    "\n",
    "# Store the default recall from the classification report\n",
    "default_recall = precision_recall_fscore_support(y_test, lr_preds_df['loan_status'])[1][1]\n",
    "\n",
    "# Calculate the estimated impact of the new default recall rate\n",
    "print(num_defaults * avg_loan_amnt * (1 - default_recall))"
   ]
  },
  {
   "cell_type": "code",
   "execution_count": 47,
   "metadata": {
    "ExecuteTime": {
     "end_time": "2020-06-19T08:04:39.474572Z",
     "start_time": "2020-06-19T08:04:39.463353Z"
    }
   },
   "outputs": [
    {
     "data": {
      "text/plain": [
       "-9863783"
      ]
     },
     "execution_count": 47,
     "metadata": {},
     "output_type": "execute_result"
    }
   ],
   "source": [
    "# Selisih antara treshold 0.5 dengan treshold 0.4\n",
    "7279593 - 17143376 "
   ]
  },
  {
   "cell_type": "markdown",
   "metadata": {
    "ExecuteTime": {
     "end_time": "2020-06-17T08:36:02.326089Z",
     "start_time": "2020-06-17T08:36:02.319752Z"
    }
   },
   "source": [
    "**Kesimpulan:**\n",
    "\n",
    "Terdapat perbedaan yang signifikan antara treshold 0.5 dan treshold 0.4. Hal ini sangat penting untuk meningkatkan recall default agar bisa mengurangi potensi kerugian perusahaan.  "
   ]
  },
  {
   "cell_type": "markdown",
   "metadata": {},
   "source": [
    "**THRESHOLD SELECTION**"
   ]
  },
  {
   "cell_type": "code",
   "execution_count": 48,
   "metadata": {
    "ExecuteTime": {
     "end_time": "2020-06-19T08:04:39.485733Z",
     "start_time": "2020-06-19T08:04:39.479515Z"
    }
   },
   "outputs": [],
   "source": [
    "# plt.plot(thresh, def_recalls)\n",
    "# plt.plot(thresh, nondef_recalls)\n",
    "# plt.plot(thresh, accs)\n",
    "# plt.xlabel('Probability Threshold')\n",
    "# plt.xticks(ticks)\n",
    "# plt.legend(['Default Recall','Non-default Recall','Model Accuracy'])\n",
    "# plt.show()"
   ]
  },
  {
   "cell_type": "markdown",
   "metadata": {},
   "source": [
    "**2) RANDOM FOREST CLASSIFIER**"
   ]
  },
  {
   "cell_type": "code",
   "execution_count": 49,
   "metadata": {
    "ExecuteTime": {
     "end_time": "2020-06-19T08:04:45.171650Z",
     "start_time": "2020-06-19T08:04:39.490572Z"
    }
   },
   "outputs": [
    {
     "name": "stdout",
     "output_type": "stream",
     "text": [
      "   loan_status  prob_default\n",
      "0            0          0.21\n",
      "1            0          0.07\n",
      "2            0          0.02\n",
      "3            0          0.32\n",
      "4            0          0.03\n",
      "5            0          0.21\n",
      "6            0          0.02\n",
      "7            0          0.22\n",
      "8            0          0.00\n",
      "9            1          0.55\n"
     ]
    }
   ],
   "source": [
    "# Create a new Random Forest\n",
    "rfc = RandomForestClassifier().fit(X_train, y_train)\n",
    "\n",
    "# Predict with a model\n",
    "rfc_preds = rfc.predict_proba(X_test)\n",
    "\n",
    "# Create dataframes of first ten predictions, and first ten true labels\n",
    "rfc_preds_df = pd.DataFrame(rfc_preds[:,1][0:10], columns = ['prob_default'])\n",
    "rfc_true_df = y_test.head(10)\n",
    "\n",
    "# Concatenate and print the two data frames for comparison\n",
    "print(pd.concat([rfc_true_df.reset_index(drop = True), rfc_preds_df], axis = 1))"
   ]
  },
  {
   "cell_type": "markdown",
   "metadata": {},
   "source": [
    "**Treshold = 0.5**"
   ]
  },
  {
   "cell_type": "code",
   "execution_count": 50,
   "metadata": {
    "ExecuteTime": {
     "end_time": "2020-06-19T08:04:45.320772Z",
     "start_time": "2020-06-19T08:04:45.176637Z"
    },
    "scrolled": true
   },
   "outputs": [
    {
     "name": "stdout",
     "output_type": "stream",
     "text": [
      "\n",
      "\u001b[1m--------------------- Confusion Matrix ---------------------\u001b[0m\n",
      "\n",
      "[[7204  415]\n",
      " [ 805 1349]]\n",
      "\n",
      "\u001b[1m------------------ Classification Report -------------------\u001b[0m\n",
      "\n",
      "              precision    recall  f1-score   support\n",
      "\n",
      " Non-Default       0.90      0.95      0.92      7619\n",
      "     Default       0.76      0.63      0.69      2154\n",
      "\n",
      "    accuracy                           0.88      9773\n",
      "   macro avg       0.83      0.79      0.81      9773\n",
      "weighted avg       0.87      0.88      0.87      9773\n",
      "\n"
     ]
    }
   ],
   "source": [
    "# Create a dataframe for the probabilities of default\n",
    "rfc_preds_df = pd.DataFrame(rfc_preds[:,1], columns = ['prob_default'])\n",
    "\n",
    "# Reassign loan status based on the threshold\n",
    "rfc_preds_df['loan_status'] = rfc_preds_df['prob_default'].apply(lambda x: 1 if x > 0.5 else 0)\n",
    "\n",
    "# Print the confusion matrix\n",
    "print('\\n' + '\\033[1m' + ' Confusion Matrix '.center(60,'-') + '\\033[0m' + '\\n')\n",
    "print(confusion_matrix(y_test, rfc_preds_df['loan_status']))\n",
    "\n",
    "# Print the classification report\n",
    "target_names = ['Non-Default', 'Default']\n",
    "print('\\n' + '\\033[1m' + ' Classification Report '.center(60,'-') + '\\033[0m' + '\\n')\n",
    "print(classification_report(y_test, rfc_preds_df['loan_status'], target_names=target_names))"
   ]
  },
  {
   "cell_type": "markdown",
   "metadata": {},
   "source": [
    "**Treshold = 0.4**"
   ]
  },
  {
   "cell_type": "code",
   "execution_count": 51,
   "metadata": {
    "ExecuteTime": {
     "end_time": "2020-06-19T08:04:45.436775Z",
     "start_time": "2020-06-19T08:04:45.327827Z"
    }
   },
   "outputs": [
    {
     "name": "stdout",
     "output_type": "stream",
     "text": [
      "\n",
      "\u001b[1m--------------------- Confusion Matrix ---------------------\u001b[0m\n",
      "\n",
      "[[7016  603]\n",
      " [ 657 1497]]\n",
      "\n",
      "\u001b[1m------------------ Classification Report -------------------\u001b[0m\n",
      "\n",
      "              precision    recall  f1-score   support\n",
      "\n",
      " Non-Default       0.91      0.92      0.92      7619\n",
      "     Default       0.71      0.69      0.70      2154\n",
      "\n",
      "    accuracy                           0.87      9773\n",
      "   macro avg       0.81      0.81      0.81      9773\n",
      "weighted avg       0.87      0.87      0.87      9773\n",
      "\n"
     ]
    }
   ],
   "source": [
    "# Create a dataframe for the probabilities of default\n",
    "rfc_preds_df = pd.DataFrame(rfc_preds[:,1], columns = ['prob_default'])\n",
    "\n",
    "# Reassign loan status based on the threshold\n",
    "rfc_preds_df['loan_status'] = rfc_preds_df['prob_default'].apply(lambda x: 1 if x > 0.4 else 0)\n",
    "\n",
    "# Print the confusion matrix\n",
    "print('\\n' + '\\033[1m' + ' Confusion Matrix '.center(60,'-') + '\\033[0m' + '\\n')\n",
    "print(confusion_matrix(y_test, rfc_preds_df['loan_status']))\n",
    "\n",
    "# Print the classification report\n",
    "target_names = ['Non-Default', 'Default']\n",
    "print('\\n' + '\\033[1m' + ' Classification Report '.center(60,'-') + '\\033[0m' + '\\n')\n",
    "print(classification_report(y_test, rfc_preds_df['loan_status'], target_names=target_names))"
   ]
  },
  {
   "cell_type": "code",
   "execution_count": 52,
   "metadata": {
    "ExecuteTime": {
     "end_time": "2020-06-19T08:04:46.474809Z",
     "start_time": "2020-06-19T08:04:45.444676Z"
    }
   },
   "outputs": [
    {
     "data": {
      "image/png": "[encoded data removed]",
      "text/plain": [
       "<Figure size 432x288 with 1 Axes>"
      ]
     },
     "metadata": {},
     "output_type": "display_data"
    },
    {
     "name": "stdout",
     "output_type": "stream",
     "text": [
      "Accuracy Score: 0.8751662744295508\n",
      "AUC Score: 0.8918103570668208\n"
     ]
    }
   ],
   "source": [
    "# Plot the ROC curve of the probabilities of default\n",
    "rfc_prob_default = rfc_preds[:,1]\n",
    "fallout, sensitivity, thresholds = roc_curve(y_test, rfc_prob_default)\n",
    "plt.plot(fallout, sensitivity, color = 'darkorange')\n",
    "plt.plot([0, 1], [0, 1], linestyle='--')\n",
    "plt.show()\n",
    "\n",
    "# Print the accuracy score the model\n",
    "rfc_acc_score = rfc.score(X_test, y_test)\n",
    "print('Accuracy Score: ' + str(rfc_acc_score))\n",
    "\n",
    "# Compute the AUC and store it in a variable\n",
    "rfc_auc_score = roc_auc_score(y_test, rfc_prob_default)\n",
    "print('AUC Score: ' + str(rfc_auc_score))"
   ]
  },
  {
   "cell_type": "markdown",
   "metadata": {},
   "source": [
    "**3) XGBOOST**"
   ]
  },
  {
   "cell_type": "code",
   "execution_count": 53,
   "metadata": {
    "ExecuteTime": {
     "end_time": "2020-06-19T08:04:49.055329Z",
     "start_time": "2020-06-19T08:04:46.481022Z"
    }
   },
   "outputs": [
    {
     "name": "stdout",
     "output_type": "stream",
     "text": [
      "   loan_status  prob_default\n",
      "0            0      0.375797\n",
      "1            0      0.016076\n",
      "2            0      0.084966\n",
      "3            0      0.092744\n",
      "4            0      0.024453\n",
      "5            0      0.121078\n",
      "6            0      0.042531\n",
      "7            0      0.228830\n",
      "8            0      0.004935\n",
      "9            1      0.616500\n"
     ]
    }
   ],
   "source": [
    "# Create a new XGBoost\n",
    "gbt = xgb.XGBClassifier().fit(X_train, y_train)\n",
    "\n",
    "# Predict with a model\n",
    "gbt_preds = gbt.predict_proba(X_test)\n",
    "\n",
    "# Create dataframes of first ten predictions, and first ten true labels\n",
    "gbt_preds_df = pd.DataFrame(gbt_preds[:,1][0:10], columns = ['prob_default'])\n",
    "gbt_true_df = y_test.head(10)\n",
    "\n",
    "# Concatenate and print the two data frames for comparison\n",
    "print(pd.concat([gbt_true_df.reset_index(drop = True), gbt_preds_df], axis = 1))"
   ]
  },
  {
   "cell_type": "code",
   "execution_count": 54,
   "metadata": {
    "ExecuteTime": {
     "end_time": "2020-06-19T08:04:49.173349Z",
     "start_time": "2020-06-19T08:04:49.059132Z"
    }
   },
   "outputs": [
    {
     "name": "stdout",
     "output_type": "stream",
     "text": [
      "{'loan_percent_income': 529, 'loan_int_rate': 880, 'person_income': 1230, 'person_emp_length': 499, 'loan_amnt': 443}\n"
     ]
    }
   ],
   "source": [
    "# Print the column importances from the model\n",
    "print(gbt.get_booster().get_score(importance_type = 'weight'))"
   ]
  },
  {
   "cell_type": "code",
   "execution_count": 55,
   "metadata": {
    "ExecuteTime": {
     "end_time": "2020-06-19T08:04:49.942565Z",
     "start_time": "2020-06-19T08:04:49.178331Z"
    }
   },
   "outputs": [
    {
     "data": {
      "image/png": "[encoded data removed]",
      "text/plain": [
       "<Figure size 432x288 with 1 Axes>"
      ]
     },
     "metadata": {},
     "output_type": "display_data"
    }
   ],
   "source": [
    "xgb.plot_importance(gbt, importance_type = 'weight')\n",
    "plt.show()"
   ]
  },
  {
   "cell_type": "markdown",
   "metadata": {},
   "source": [
    "**Treshold = 0.5**"
   ]
  },
  {
   "cell_type": "code",
   "execution_count": 56,
   "metadata": {
    "ExecuteTime": {
     "end_time": "2020-06-19T08:04:50.047871Z",
     "start_time": "2020-06-19T08:04:49.949215Z"
    }
   },
   "outputs": [
    {
     "name": "stdout",
     "output_type": "stream",
     "text": [
      "\n",
      "\u001b[1m--------------------- Confusion Matrix ---------------------\u001b[0m\n",
      "\n",
      "[[7158  461]\n",
      " [ 765 1389]]\n",
      "\n",
      "\u001b[1m------------------ Classification Report -------------------\u001b[0m\n",
      "\n",
      "              precision    recall  f1-score   support\n",
      "\n",
      " Non-Default       0.90      0.94      0.92      7619\n",
      "     Default       0.75      0.64      0.69      2154\n",
      "\n",
      "    accuracy                           0.87      9773\n",
      "   macro avg       0.83      0.79      0.81      9773\n",
      "weighted avg       0.87      0.87      0.87      9773\n",
      "\n"
     ]
    }
   ],
   "source": [
    "# Create a dataframe for the probabilities of default\n",
    "gbt_preds_df = pd.DataFrame(gbt_preds[:,1], columns = ['prob_default'])\n",
    "\n",
    "# Reassign loan status based on the threshold\n",
    "gbt_preds_df['loan_status'] = gbt_preds_df['prob_default'].apply(lambda x: 1 if x > 0.5 else 0)\n",
    "\n",
    "# Print the confusion matrix\n",
    "print('\\n' + '\\033[1m' + ' Confusion Matrix '.center(60,'-') + '\\033[0m' + '\\n')\n",
    "print(confusion_matrix(y_test, gbt_preds_df['loan_status']))\n",
    "\n",
    "# Print the classification report\n",
    "target_names = ['Non-Default', 'Default']\n",
    "print('\\n' + '\\033[1m' + ' Classification Report '.center(60,'-') + '\\033[0m' + '\\n')\n",
    "print(classification_report(y_test, gbt_preds_df['loan_status'], target_names=target_names))"
   ]
  },
  {
   "cell_type": "markdown",
   "metadata": {},
   "source": [
    "**Treshold = 0.4**"
   ]
  },
  {
   "cell_type": "code",
   "execution_count": 57,
   "metadata": {
    "ExecuteTime": {
     "end_time": "2020-06-19T08:04:50.155289Z",
     "start_time": "2020-06-19T08:04:50.053205Z"
    }
   },
   "outputs": [
    {
     "name": "stdout",
     "output_type": "stream",
     "text": [
      "\n",
      "\u001b[1m--------------------- Confusion Matrix ---------------------\u001b[0m\n",
      "\n",
      "[[7023  596]\n",
      " [ 642 1512]]\n",
      "\n",
      "\u001b[1m------------------ Classification Report -------------------\u001b[0m\n",
      "\n",
      "              precision    recall  f1-score   support\n",
      "\n",
      " Non-Default       0.92      0.92      0.92      7619\n",
      "     Default       0.72      0.70      0.71      2154\n",
      "\n",
      "    accuracy                           0.87      9773\n",
      "   macro avg       0.82      0.81      0.81      9773\n",
      "weighted avg       0.87      0.87      0.87      9773\n",
      "\n"
     ]
    }
   ],
   "source": [
    "# Create a dataframe for the probabilities of default\n",
    "gbt_preds_df = pd.DataFrame(gbt_preds[:,1], columns = ['prob_default'])\n",
    "\n",
    "# Reassign loan status based on the threshold\n",
    "gbt_preds_df['loan_status'] = gbt_preds_df['prob_default'].apply(lambda x: 1 if x > 0.4 else 0)\n",
    "\n",
    "## Print the confusion matrix\n",
    "print('\\n' + '\\033[1m' + ' Confusion Matrix '.center(60,'-') + '\\033[0m' + '\\n')\n",
    "print(confusion_matrix(y_test, gbt_preds_df['loan_status']))\n",
    "\n",
    "# Print the classification report\n",
    "target_names = ['Non-Default', 'Default']\n",
    "print('\\n' + '\\033[1m' + ' Classification Report '.center(60,'-') + '\\033[0m' + '\\n')\n",
    "print(classification_report(y_test, gbt_preds_df['loan_status'], target_names=target_names))"
   ]
  },
  {
   "cell_type": "code",
   "execution_count": 58,
   "metadata": {
    "ExecuteTime": {
     "end_time": "2020-06-19T08:04:50.916494Z",
     "start_time": "2020-06-19T08:04:50.160206Z"
    }
   },
   "outputs": [
    {
     "data": {
      "image/png": "[encoded data removed]",
      "text/plain": [
       "<Figure size 432x288 with 1 Axes>"
      ]
     },
     "metadata": {},
     "output_type": "display_data"
    },
    {
     "name": "stdout",
     "output_type": "stream",
     "text": [
      "Accuracy Score: 0.8745523380742863\n",
      "AUC Score: 0.9013788404422652\n"
     ]
    }
   ],
   "source": [
    "# Plot the ROC curve of the probabilities of default\n",
    "gbt_prob_default = gbt_preds[:,1]\n",
    "fallout, sensitivity, thresholds = roc_curve(y_test, gbt_prob_default)\n",
    "plt.plot(fallout, sensitivity, color = 'darkorange')\n",
    "plt.plot([0, 1], [0, 1], linestyle='--')\n",
    "plt.show()\n",
    "\n",
    "# Print the accuracy score the model\n",
    "gbt_acc_score = gbt.score(X_test, y_test)\n",
    "print('Accuracy Score: ' + str(gbt_acc_score))\n",
    "\n",
    "# Compute the AUC and store it in a variable\n",
    "gbt_auc_score = roc_auc_score(y_test, gbt_prob_default)\n",
    "print('AUC Score: ' + str(gbt_auc_score))"
   ]
  },
  {
   "cell_type": "markdown",
   "metadata": {
    "ExecuteTime": {
     "end_time": "2020-06-16T15:14:34.382695Z",
     "start_time": "2020-06-16T15:14:34.373882Z"
    }
   },
   "source": [
    "* **SCORE COMPARISON**"
   ]
  },
  {
   "cell_type": "code",
   "execution_count": 59,
   "metadata": {
    "ExecuteTime": {
     "end_time": "2020-06-19T08:04:50.956471Z",
     "start_time": "2020-06-19T08:04:50.923215Z"
    }
   },
   "outputs": [
    {
     "data": {
      "text/html": [
       "<div>\n",
       "<style scoped>\n",
       "    .dataframe tbody tr th:only-of-type {\n",
       "        vertical-align: middle;\n",
       "    }\n",
       "\n",
       "    .dataframe tbody tr th {\n",
       "        vertical-align: top;\n",
       "    }\n",
       "\n",
       "    .dataframe thead th {\n",
       "        text-align: right;\n",
       "    }\n",
       "</style>\n",
       "<table border=\"1\" class=\"dataframe\">\n",
       "  <thead>\n",
       "    <tr style=\"text-align: right;\">\n",
       "      <th></th>\n",
       "      <th>lr_acc_score</th>\n",
       "      <th>gbt_acc_score</th>\n",
       "      <th>rfc_acc_score</th>\n",
       "      <th>lr_auc_score</th>\n",
       "      <th>gbt_auc_score</th>\n",
       "      <th>rfc_auc_score</th>\n",
       "    </tr>\n",
       "  </thead>\n",
       "  <tbody>\n",
       "    <tr>\n",
       "      <td>0</td>\n",
       "      <td>0.802108</td>\n",
       "      <td>0.874552</td>\n",
       "      <td>0.875166</td>\n",
       "      <td>0.756395</td>\n",
       "      <td>0.901379</td>\n",
       "      <td>0.89181</td>\n",
       "    </tr>\n",
       "  </tbody>\n",
       "</table>\n",
       "</div>"
      ],
      "text/plain": [
       "   lr_acc_score  gbt_acc_score  rfc_acc_score  lr_auc_score  gbt_auc_score  \\\n",
       "0      0.802108       0.874552       0.875166      0.756395       0.901379   \n",
       "\n",
       "   rfc_auc_score  \n",
       "0        0.89181  "
      ]
     },
     "execution_count": 59,
     "metadata": {},
     "output_type": "execute_result"
    }
   ],
   "source": [
    "compare2 = pd.DataFrame([lr_acc_score, gbt_acc_score, rfc_acc_score, lr_auc_score, gbt_auc_score, rfc_auc_score]).transpose()\n",
    "compare2.rename(columns={0 : 'lr_acc_score', 1 : 'gbt_acc_score', 2 : 'rfc_acc_score', 3: 'lr_auc_score', \n",
    "                         4 :'gbt_auc_score', 5 : 'rfc_auc_score'})"
   ]
  },
  {
   "cell_type": "markdown",
   "metadata": {},
   "source": [
    "**E) CROSS VALIDATION**"
   ]
  },
  {
   "cell_type": "markdown",
   "metadata": {},
   "source": [
    "**1) XGBOOST CROSS VALIDATION**"
   ]
  },
  {
   "cell_type": "code",
   "execution_count": 60,
   "metadata": {
    "ExecuteTime": {
     "end_time": "2020-06-19T08:05:00.346670Z",
     "start_time": "2020-06-19T08:04:50.962092Z"
    }
   },
   "outputs": [
    {
     "name": "stdout",
     "output_type": "stream",
     "text": [
      "   train-auc-mean  train-auc-std  test-auc-mean  test-auc-std\n",
      "0        0.880458       0.001840       0.873056      0.006843\n",
      "1        0.888024       0.002274       0.880204      0.006839\n",
      "2        0.890962       0.002305       0.883168      0.007267\n",
      "3        0.892705       0.001893       0.884017      0.007879\n",
      "4        0.895325       0.002007       0.886104      0.007219\n",
      "5        0.897359       0.002219       0.886909      0.007133\n",
      "6        0.899890       0.002009       0.888087      0.006675\n",
      "7        0.903071       0.002913       0.889345      0.006059\n",
      "8        0.905549       0.002254       0.890574      0.006469\n",
      "9        0.907999       0.002149       0.891853      0.006219\n"
     ]
    }
   ],
   "source": [
    "# Set parameter\n",
    "params = {'objective': 'binary:logistic', 'seed': 123, 'eval_metric': 'auc'}\n",
    "\n",
    "# Set the values for number of folds and stopping iterations\n",
    "n_folds = 5\n",
    "early_stopping = 10\n",
    "\n",
    "# Create the DTrain matrix for XGBoost\n",
    "DTrain = xgb.DMatrix(X_train, label = y_train)\n",
    "\n",
    "# Create the data frame of cross validations\n",
    "cv_df = xgb.cv(params, DTrain, num_boost_round = 100, nfold=n_folds,\n",
    "            early_stopping_rounds=early_stopping)\n",
    "\n",
    "# Print the cross validations data frame\n",
    "print(cv_df[:10])"
   ]
  },
  {
   "cell_type": "code",
   "execution_count": 61,
   "metadata": {
    "ExecuteTime": {
     "end_time": "2020-06-19T08:05:01.026413Z",
     "start_time": "2020-06-19T08:05:00.349638Z"
    },
    "scrolled": true
   },
   "outputs": [
    {
     "data": {
      "image/png": "[encoded data removed]",
      "text/plain": [
       "<Figure size 432x288 with 1 Axes>"
      ]
     },
     "metadata": {},
     "output_type": "display_data"
    }
   ],
   "source": [
    "# Plot the test AUC scores for each iteration\n",
    "plt.plot(cv_df['test-auc-mean'])\n",
    "plt.title('Test AUC Score 100 Iterations')\n",
    "plt.xlabel('Iteration Number')\n",
    "plt.ylabel('Test AUC Score')\n",
    "plt.show()"
   ]
  },
  {
   "cell_type": "markdown",
   "metadata": {},
   "source": [
    "**Kesimpulan:**\n",
    "\n",
    "**train-auc-mean** dan **test-auc-mean** meningkat pada setiap iterasi cross-validation. "
   ]
  },
  {
   "cell_type": "markdown",
   "metadata": {},
   "source": [
    "**F) HYPER-PARAMATER TUNING**"
   ]
  },
  {
   "cell_type": "markdown",
   "metadata": {},
   "source": [
    "**1) LOGISTIC REGRESSION + HYPER-PARAMETER TUNING**"
   ]
  },
  {
   "cell_type": "code",
   "execution_count": 62,
   "metadata": {
    "ExecuteTime": {
     "end_time": "2020-06-19T08:05:01.046831Z",
     "start_time": "2020-06-19T08:05:01.030530Z"
    }
   },
   "outputs": [
    {
     "data": {
      "text/plain": [
       "{'penalty': ['l1', 'l2', 'elasticnet', 'none'],\n",
       " 'solver': ['newton-cg', 'lbfgs', 'liblinear', 'sag', 'saga'],\n",
       " 'max_iter': [1, 10, 100, 1000, 10000]}"
      ]
     },
     "execution_count": 62,
     "metadata": {},
     "output_type": "execute_result"
    }
   ],
   "source": [
    "penalty = ['l1', 'l2', 'elasticnet', 'none']\n",
    "solver = ['newton-cg', 'lbfgs', 'liblinear', 'sag', 'saga']\n",
    "max_iter = [1, 10, 100, 1000, 10000]\n",
    "\n",
    "params = {'penalty': penalty, 'solver': solver, 'max_iter': max_iter}\n",
    "params"
   ]
  },
  {
   "cell_type": "code",
   "execution_count": 63,
   "metadata": {
    "ExecuteTime": {
     "end_time": "2020-06-19T08:05:01.062018Z",
     "start_time": "2020-06-19T08:05:01.052638Z"
    }
   },
   "outputs": [],
   "source": [
    "model_lr = LogisticRegression()\n",
    "model_lr_gs = GridSearchCV(model_lr, params, cv = 5)"
   ]
  },
  {
   "cell_type": "code",
   "execution_count": 64,
   "metadata": {
    "ExecuteTime": {
     "end_time": "2020-06-19T08:07:31.945375Z",
     "start_time": "2020-06-19T08:05:01.067591Z"
    }
   },
   "outputs": [
    {
     "data": {
      "text/plain": [
       "{'max_iter': 100, 'penalty': 'l2', 'solver': 'newton-cg'}"
      ]
     },
     "execution_count": 64,
     "metadata": {},
     "output_type": "execute_result"
    }
   ],
   "source": [
    "model_lr_gs.fit(X_train, y_train)\n",
    "model_lr_gs.best_params_"
   ]
  },
  {
   "cell_type": "code",
   "execution_count": 65,
   "metadata": {
    "ExecuteTime": {
     "end_time": "2020-06-19T08:07:36.259153Z",
     "start_time": "2020-06-19T08:07:31.950691Z"
    }
   },
   "outputs": [
    {
     "name": "stdout",
     "output_type": "stream",
     "text": [
      "[-6.03653221]\n",
      "[[ 1.09052214e+01 -1.85325864e-06  3.10069397e-01 -7.79555323e-05\n",
      "  -2.50145290e-02]]\n"
     ]
    }
   ],
   "source": [
    "# Create and train a new logistic regression\n",
    "log_reg_hyper = LogisticRegression(max_iter=1000, penalty='l2', solver='newton-cg').fit(X_train, y_train)\n",
    "\n",
    "# Print the intercept of the model\n",
    "print(log_reg_hyper.intercept_)\n",
    "\n",
    "# Print the coeficient of the model\n",
    "print(log_reg_hyper.coef_)"
   ]
  },
  {
   "cell_type": "code",
   "execution_count": 66,
   "metadata": {
    "ExecuteTime": {
     "end_time": "2020-06-19T08:07:36.294369Z",
     "start_time": "2020-06-19T08:07:36.265070Z"
    }
   },
   "outputs": [
    {
     "name": "stdout",
     "output_type": "stream",
     "text": [
      "   loan_status  prob_default\n",
      "0            0      0.275231\n",
      "1            0      0.060116\n",
      "2            0      0.183292\n",
      "3            0      0.272013\n",
      "4            0      0.052242\n",
      "5            0      0.608369\n",
      "6            0      0.088503\n",
      "7            0      0.115451\n",
      "8            0      0.032812\n",
      "9            1      0.567121\n"
     ]
    }
   ],
   "source": [
    "# Create predictions of probability for loan status using test data\n",
    "lr_preds_hyper = log_reg_hyper.predict_proba(X_test)\n",
    "\n",
    "# Create dataframes of first ten predictions, and first ten true labels\n",
    "lr_preds_df_hyper = pd.DataFrame(lr_preds_hyper[:,1][:10], columns = ['prob_default'])\n",
    "lr_true_df_hyper = y_test.head(10)\n",
    "\n",
    "# Concatenate and print the two data frames for comparison\n",
    "print(pd.concat([lr_true_df_hyper.reset_index(drop = True), lr_preds_df_hyper], axis = 1))"
   ]
  },
  {
   "cell_type": "code",
   "execution_count": 67,
   "metadata": {
    "ExecuteTime": {
     "end_time": "2020-06-19T08:07:36.394814Z",
     "start_time": "2020-06-19T08:07:36.300398Z"
    }
   },
   "outputs": [
    {
     "name": "stdout",
     "output_type": "stream",
     "text": [
      "\n",
      "\u001b[1m--------------------- Confusion Matrix ---------------------\u001b[0m\n",
      "\n",
      "[[6921  698]\n",
      " [1029 1125]]\n",
      "\n",
      "\u001b[1m------------------ Classification Report -------------------\u001b[0m\n",
      "\n",
      "              precision    recall  f1-score   support\n",
      "\n",
      " Non-Default       0.87      0.91      0.89      7619\n",
      "     Default       0.62      0.52      0.57      2154\n",
      "\n",
      "    accuracy                           0.82      9773\n",
      "   macro avg       0.74      0.72      0.73      9773\n",
      "weighted avg       0.81      0.82      0.82      9773\n",
      "\n"
     ]
    }
   ],
   "source": [
    "# Create a dataframe for the probabilities of default\n",
    "lr_preds_df_hyper = pd.DataFrame(lr_preds_hyper[:,1], columns = ['prob_default'])\n",
    "\n",
    "# Reassign loan status based on the threshold\n",
    "lr_preds_df_hyper['loan_status'] = lr_preds_df_hyper['prob_default'].apply(lambda x: 1 if x > 0.4 else 0)\n",
    "\n",
    "# Print the confusion_matrix\n",
    "print('\\n' + '\\033[1m' + ' Confusion Matrix '.center(60,'-') + '\\033[0m' + '\\n')\n",
    "print(confusion_matrix(y_test, lr_preds_df_hyper['loan_status']))\n",
    "\n",
    "# Print the classification report\n",
    "target_names = ['Non-Default', 'Default']\n",
    "print('\\n' + '\\033[1m' + ' Classification Report '.center(60,'-') + '\\033[0m' + '\\n')\n",
    "print(classification_report(y_test, lr_preds_df_hyper['loan_status'], target_names=target_names))"
   ]
  },
  {
   "cell_type": "code",
   "execution_count": 68,
   "metadata": {
    "ExecuteTime": {
     "end_time": "2020-06-19T08:07:37.044898Z",
     "start_time": "2020-06-19T08:07:36.422184Z"
    }
   },
   "outputs": [
    {
     "data": {
      "image/png": "[encoded data removed]",
      "text/plain": [
       "<Figure size 432x288 with 1 Axes>"
      ]
     },
     "metadata": {},
     "output_type": "display_data"
    },
    {
     "name": "stdout",
     "output_type": "stream",
     "text": [
      "Accuracy Score: 0.8745523380742863\n",
      "AUC Score: 0.8267643028966702\n"
     ]
    }
   ],
   "source": [
    "# Plot the ROC curve of the probabilities of default\n",
    "lr_prob_default_hyper = lr_preds_hyper[:,1]\n",
    "fallout, sensitivity, thresholds = roc_curve(y_test, lr_prob_default_hyper)\n",
    "plt.plot(fallout, sensitivity, color = 'darkorange')\n",
    "plt.plot([0, 1], [0, 1], linestyle='--')\n",
    "plt.show()\n",
    "\n",
    "# Print the accuracy score the model\n",
    "lr_acc_score_hyper = gbt.score(X_test, y_test)\n",
    "print('Accuracy Score: ' + str(lr_acc_score_hyper))\n",
    "\n",
    "# Compute the AUC and store it in a variable\n",
    "lr_auc_score_hyper = roc_auc_score(y_test, lr_prob_default_hyper)\n",
    "print('AUC Score: ' + str(lr_auc_score_hyper))"
   ]
  },
  {
   "cell_type": "markdown",
   "metadata": {},
   "source": [
    "**Kesimpulan:**\n",
    "\n",
    "Ada peningkatan performa model machine learning setelah hyper-parameter tuning"
   ]
  },
  {
   "cell_type": "markdown",
   "metadata": {},
   "source": [
    "**2) XGBOOST + HYPER-PARAMETER TUNING**"
   ]
  },
  {
   "cell_type": "code",
   "execution_count": 69,
   "metadata": {
    "ExecuteTime": {
     "end_time": "2020-06-19T08:07:37.088466Z",
     "start_time": "2020-06-19T08:07:37.066977Z"
    }
   },
   "outputs": [],
   "source": [
    "# Define estimator\n",
    "estimator = xgb.XGBClassifier()\n",
    "\n",
    "# Define parameter\n",
    "parameters = {\n",
    "    'max_depth': range(2, 10, 1),\n",
    "    'n_estimators': range(10, 100, 10),\n",
    "    'learning_rate': [0.1, 0.01, 0.05]\n",
    "}\n",
    "\n",
    "# Hyper-parameter tuning using GridSearch\n",
    "grid_search = GridSearchCV(\n",
    "    estimator=estimator,\n",
    "    param_grid=parameters,\n",
    "    scoring = 'roc_auc',\n",
    "    n_jobs = 5,\n",
    "    cv = 5,\n",
    "    verbose=True\n",
    ")"
   ]
  },
  {
   "cell_type": "code",
   "execution_count": 70,
   "metadata": {
    "ExecuteTime": {
     "end_time": "2020-06-19T08:16:37.636574Z",
     "start_time": "2020-06-19T08:07:37.094873Z"
    }
   },
   "outputs": [
    {
     "name": "stdout",
     "output_type": "stream",
     "text": [
      "Fitting 5 folds for each of 216 candidates, totalling 1080 fits\n"
     ]
    },
    {
     "name": "stderr",
     "output_type": "stream",
     "text": [
      "[Parallel(n_jobs=5)]: Using backend LokyBackend with 5 concurrent workers.\n",
      "[Parallel(n_jobs=5)]: Done  40 tasks      | elapsed:   15.5s\n",
      "[Parallel(n_jobs=5)]: Done 190 tasks      | elapsed:  1.2min\n",
      "[Parallel(n_jobs=5)]: Done 440 tasks      | elapsed:  3.4min\n",
      "[Parallel(n_jobs=5)]: Done 790 tasks      | elapsed:  6.3min\n",
      "[Parallel(n_jobs=5)]: Done 1080 out of 1080 | elapsed:  9.0min finished\n"
     ]
    },
    {
     "data": {
      "text/plain": [
       "GridSearchCV(cv=5, error_score=nan,\n",
       "             estimator=XGBClassifier(base_score=None, booster=None,\n",
       "                                     colsample_bylevel=None,\n",
       "                                     colsample_bynode=None,\n",
       "                                     colsample_bytree=None, gamma=None,\n",
       "                                     gpu_id=None, importance_type='gain',\n",
       "                                     interaction_constraints=None,\n",
       "                                     learning_rate=None, max_delta_step=None,\n",
       "                                     max_depth=None, min_child_weight=None,\n",
       "                                     missing=nan, monotone_constraints=None,\n",
       "                                     n_estim...\n",
       "                                     random_state=None, reg_alpha=None,\n",
       "                                     reg_lambda=None, scale_pos_weight=None,\n",
       "                                     subsample=None, tree_method=None,\n",
       "                                     validate_parameters=None, verbosity=None),\n",
       "             iid='deprecated', n_jobs=5,\n",
       "             param_grid={'learning_rate': [0.1, 0.01, 0.05],\n",
       "                         'max_depth': range(2, 10),\n",
       "                         'n_estimators': range(10, 100, 10)},\n",
       "             pre_dispatch='2*n_jobs', refit=True, return_train_score=False,\n",
       "             scoring='roc_auc', verbose=True)"
      ]
     },
     "execution_count": 70,
     "metadata": {},
     "output_type": "execute_result"
    }
   ],
   "source": [
    "grid_search.fit(X_train, y_train)"
   ]
  },
  {
   "cell_type": "code",
   "execution_count": 71,
   "metadata": {
    "ExecuteTime": {
     "end_time": "2020-06-19T08:16:37.660271Z",
     "start_time": "2020-06-19T08:16:37.641469Z"
    }
   },
   "outputs": [
    {
     "name": "stdout",
     "output_type": "stream",
     "text": [
      "XGBClassifier(base_score=0.5, booster='gbtree', colsample_bylevel=1,\n",
      "              colsample_bynode=1, colsample_bytree=1, gamma=0, gpu_id=-1,\n",
      "              importance_type='gain', interaction_constraints='',\n",
      "              learning_rate=0.1, max_delta_step=0, max_depth=8,\n",
      "              min_child_weight=1, missing=nan, monotone_constraints='()',\n",
      "              n_estimators=90, n_jobs=0, num_parallel_tree=1,\n",
      "              objective='binary:logistic', random_state=0, reg_alpha=0,\n",
      "              reg_lambda=1, scale_pos_weight=1, subsample=1,\n",
      "              tree_method='exact', validate_parameters=1, verbosity=None)\n"
     ]
    }
   ],
   "source": [
    "print(grid_search.best_estimator_)"
   ]
  },
  {
   "cell_type": "code",
   "execution_count": 81,
   "metadata": {
    "ExecuteTime": {
     "end_time": "2020-06-19T08:18:20.484606Z",
     "start_time": "2020-06-19T08:18:16.913719Z"
    }
   },
   "outputs": [
    {
     "name": "stdout",
     "output_type": "stream",
     "text": [
      "   loan_status  prob_default\n",
      "0            0      0.319005\n",
      "1            0      0.020656\n",
      "2            0      0.105806\n",
      "3            0      0.116533\n",
      "4            0      0.044460\n",
      "5            0      0.154215\n",
      "6            0      0.046510\n",
      "7            0      0.129359\n",
      "8            0      0.004794\n",
      "9            1      0.642298\n"
     ]
    }
   ],
   "source": [
    "# Create and train a new XGBoost\n",
    "gbt_hyper = xgb.XGBClassifier(base_score=0.5, booster='gbtree', colsample_bylevel=1,\n",
    "              colsample_bynode=1, colsample_bytree=1, gamma=0, gpu_id=-1,\n",
    "              importance_type='gain', interaction_constraints='',\n",
    "              learning_rate=0.1, max_delta_step=0, max_depth=7,\n",
    "              min_child_weight=1, monotone_constraints='()',\n",
    "              n_estimators=180, n_jobs=4, nthread=4, num_parallel_tree=1,\n",
    "              objective='binary:logistic', random_state=42, reg_alpha=0,\n",
    "              reg_lambda=1, scale_pos_weight=1, seed=42, subsample=1,\n",
    "              tree_method='exact', validate_parameters=1, verbosity=None).fit(X_train, y_train)\n",
    "\n",
    "# Create predictions of probability for loan status using test data\n",
    "gbt_preds_hyper = gbt_hyper.predict_proba(X_test)\n",
    "\n",
    "# Create dataframes of first ten predictions, and first ten true labels\n",
    "gbt_preds_df_hyper = pd.DataFrame(gbt_preds_hyper[:,1][:10], columns = ['prob_default'])\n",
    "gbt_true_df_hyper = y_test.head(10)\n",
    "\n",
    "# Concatenate and print the two data frames for comparison\n",
    "print(pd.concat([gbt_true_df_hyper.reset_index(drop = True), gbt_preds_df_hyper], axis = 1))"
   ]
  },
  {
   "cell_type": "code",
   "execution_count": 82,
   "metadata": {
    "ExecuteTime": {
     "end_time": "2020-06-19T08:18:47.413534Z",
     "start_time": "2020-06-19T08:18:47.323966Z"
    }
   },
   "outputs": [
    {
     "name": "stdout",
     "output_type": "stream",
     "text": [
      "\n",
      "\u001b[1m--------------------- Confusion Matrix ---------------------\u001b[0m\n",
      "\n",
      "[[7034  585]\n",
      " [ 632 1522]]\n",
      "\n",
      "\u001b[1m------------------ Classification Report -------------------\u001b[0m\n",
      "\n",
      "              precision    recall  f1-score   support\n",
      "\n",
      " Non-Default       0.92      0.92      0.92      7619\n",
      "     Default       0.72      0.71      0.71      2154\n",
      "\n",
      "    accuracy                           0.88      9773\n",
      "   macro avg       0.82      0.81      0.82      9773\n",
      "weighted avg       0.87      0.88      0.87      9773\n",
      "\n"
     ]
    }
   ],
   "source": [
    "# Create a dataframe for the probabilities of default\n",
    "gbt_preds_df_hyper = pd.DataFrame(gbt_preds_hyper[:,1], columns = ['prob_default'])\n",
    "\n",
    "# Reassign loan status based on the threshold\n",
    "gbt_preds_df_hyper['loan_status'] = gbt_preds_df_hyper['prob_default'].apply(lambda x: 1 if x > 0.4 else 0)\n",
    "\n",
    "# Print the confusion_matrix\n",
    "print('\\n' + '\\033[1m' + ' Confusion Matrix '.center(60,'-') + '\\033[0m' + '\\n')\n",
    "print(confusion_matrix(y_test, gbt_preds_df_hyper['loan_status']))\n",
    "\n",
    "# Print the classification report\n",
    "target_names = ['Non-Default', 'Default']\n",
    "print('\\n' + '\\033[1m' + ' Classification Report '.center(60,'-') + '\\033[0m' + '\\n')\n",
    "print(classification_report(y_test, gbt_preds_df_hyper['loan_status'], target_names=target_names))"
   ]
  },
  {
   "cell_type": "code",
   "execution_count": 74,
   "metadata": {
    "ExecuteTime": {
     "end_time": "2020-06-19T08:16:41.841746Z",
     "start_time": "2020-06-19T08:16:41.230625Z"
    }
   },
   "outputs": [
    {
     "data": {
      "image/png": "[encoded data removed]",
      "text/plain": [
       "<Figure size 432x288 with 1 Axes>"
      ]
     },
     "metadata": {},
     "output_type": "display_data"
    },
    {
     "name": "stdout",
     "output_type": "stream",
     "text": [
      "Accuracy Score: 0.8745523380742863\n",
      "AUC Score: 0.9037039115547396\n"
     ]
    }
   ],
   "source": [
    "# Plot the ROC curve of the probabilities of default\n",
    "gbt_prob_default_hyper = gbt_preds_hyper[:,1]\n",
    "fallout, sensitivity, thresholds = roc_curve(y_test, gbt_prob_default_hyper)\n",
    "plt.plot(fallout, sensitivity, color = 'darkorange')\n",
    "plt.plot([0, 1], [0, 1], linestyle='--')\n",
    "plt.show()\n",
    "\n",
    "# Print the accuracy score the model\n",
    "gbt_acc_score_hyper = gbt.score(X_test, y_test)\n",
    "print('Accuracy Score: ' + str(gbt_acc_score_hyper))\n",
    "\n",
    "# Compute the AUC and store it in a variable\n",
    "gbt_auc_score_hyper = roc_auc_score(y_test, gbt_prob_default_hyper)\n",
    "print('AUC Score: ' + str(gbt_auc_score_hyper))"
   ]
  },
  {
   "cell_type": "markdown",
   "metadata": {},
   "source": [
    "**Kesimpulan:**\n",
    "\n",
    "Ada sedikit peningkatan performa model machine learning setelah hyper-parameter tuning."
   ]
  },
  {
   "cell_type": "markdown",
   "metadata": {},
   "source": [
    "### 4. MODEL EVALUATION & IMPLEMENTATION"
   ]
  },
  {
   "cell_type": "markdown",
   "metadata": {
    "ExecuteTime": {
     "end_time": "2020-06-18T01:20:02.526262Z",
     "start_time": "2020-06-18T01:20:02.517577Z"
    }
   },
   "source": [
    "* **COMPARING MODEL REPORT**"
   ]
  },
  {
   "cell_type": "code",
   "execution_count": 75,
   "metadata": {
    "ExecuteTime": {
     "end_time": "2020-06-19T08:16:41.943110Z",
     "start_time": "2020-06-19T08:16:41.847744Z"
    }
   },
   "outputs": [
    {
     "name": "stdout",
     "output_type": "stream",
     "text": [
      "\n",
      "\u001b[1m------------------- Logistic Regression --------------------\u001b[0m\n",
      "\n",
      "              precision    recall  f1-score   support\n",
      "\n",
      " Non-Default       0.87      0.91      0.89      7619\n",
      "     Default       0.62      0.52      0.57      2154\n",
      "\n",
      "    accuracy                           0.82      9773\n",
      "   macro avg       0.74      0.72      0.73      9773\n",
      "weighted avg       0.81      0.82      0.82      9773\n",
      "\n",
      "\n",
      "\u001b[1m------------------------- XGBoost --------------------------\u001b[0m\n",
      "\n",
      "              precision    recall  f1-score   support\n",
      "\n",
      " Non-Default       0.92      0.92      0.92      7619\n",
      "     Default       0.72      0.71      0.71      2154\n",
      "\n",
      "    accuracy                           0.88      9773\n",
      "   macro avg       0.82      0.81      0.82      9773\n",
      "weighted avg       0.87      0.88      0.87      9773\n",
      "\n"
     ]
    }
   ],
   "source": [
    "# Print the logistic regression classification report\n",
    "print('\\n' + '\\033[1m' + ' Logistic Regression '.center(60,'-') + '\\033[0m' + '\\n')\n",
    "target_names = ['Non-Default', 'Default']\n",
    "print(classification_report(y_test, lr_preds_df_hyper['loan_status'], target_names=target_names))\n",
    "\n",
    "# Print the gradient boosted tree classification report\n",
    "print('\\n' + '\\033[1m' + ' XGBoost '.center(60,'-') + '\\033[0m' + '\\n')\n",
    "print(classification_report(y_test, gbt_preds_df_hyper['loan_status'], target_names=target_names))"
   ]
  },
  {
   "cell_type": "markdown",
   "metadata": {},
   "source": [
    "* **COMPARING WITH ROC**"
   ]
  },
  {
   "cell_type": "code",
   "execution_count": 76,
   "metadata": {
    "ExecuteTime": {
     "end_time": "2020-06-19T08:16:42.604669Z",
     "start_time": "2020-06-19T08:16:41.948986Z"
    }
   },
   "outputs": [
    {
     "data": {
      "image/png": "[encoded data removed]",
      "text/plain": [
       "<Figure size 432x288 with 1 Axes>"
      ]
     },
     "metadata": {},
     "output_type": "display_data"
    }
   ],
   "source": [
    "# ROC chart components\n",
    "fallout_lr, sensitivity_lr, thresholds_lr = roc_curve(y_test, lr_preds_hyper[:,1])\n",
    "fallout_gbt, sensitivity_gbt, thresholds_gbt = roc_curve(y_test, gbt_preds_hyper[:,1])\n",
    "\n",
    "# ROC Chart with both\n",
    "plt.plot(fallout_lr, sensitivity_lr, color = 'blue', label='%s' % 'Logistic Regression')\n",
    "plt.plot(fallout_gbt, sensitivity_gbt, color = 'green', label='%s' % 'GBT')\n",
    "plt.plot([0, 1], [0, 1], linestyle='--', label='%s' % 'Random Prediction')\n",
    "plt.title(\"ROC Chart for LR and GBT on the Probability of Default\")\n",
    "plt.xlabel('Fall-out')\n",
    "plt.ylabel('Sensitivity')\n",
    "plt.legend()\n",
    "plt.show()"
   ]
  },
  {
   "cell_type": "markdown",
   "metadata": {},
   "source": [
    "#### ACCEPTANCE RATES"
   ]
  },
  {
   "cell_type": "markdown",
   "metadata": {},
   "source": [
    "Menentukan presentase penerimaan pinjaman baru (accepted loan)."
   ]
  },
  {
   "cell_type": "code",
   "execution_count": 77,
   "metadata": {
    "ExecuteTime": {
     "end_time": "2020-06-19T08:16:42.668758Z",
     "start_time": "2020-06-19T08:16:42.606662Z"
    }
   },
   "outputs": [
    {
     "name": "stdout",
     "output_type": "stream",
     "text": [
      "count    9773.000000\n",
      "mean        0.220849\n",
      "std         0.290213\n",
      "min         0.001138\n",
      "25%         0.025090\n",
      "50%         0.072648\n",
      "75%         0.303732\n",
      "max         0.998779\n",
      "Name: prob_default, dtype: float64\n",
      "\n",
      "\n",
      "Total loan received is\n",
      "9773\n",
      "\n",
      "\n",
      "loan_status\n",
      "0    8307\n",
      "1    1466\n",
      "Name: loan_status_accepted, dtype: int64\n"
     ]
    }
   ],
   "source": [
    "# Check the statistics of the probabilities of default\n",
    "print(gbt_preds_df_hyper['prob_default'].describe())\n",
    "print('\\n')\n",
    "\n",
    "# Calculate the threshold for a 85% acceptance rate\n",
    "threshold_85 = np.quantile(gbt_preds_df_hyper['prob_default'], 0.85)\n",
    "\n",
    "# Apply acceptance rate threshold\n",
    "gbt_preds_df_hyper['loan_status_accepted'] = gbt_preds_df_hyper['prob_default'].apply(lambda x: 1 if x > threshold_85 else 0)\n",
    "\n",
    "# Print the total loan accepted\n",
    "print('Total loan received is')\n",
    "print(sum(gbt_preds_df_hyper['loan_status_accepted'].value_counts()))\n",
    "print('\\n')\n",
    "\n",
    "# Print the counts of loan status accepted\n",
    "print('loan_status')\n",
    "print(gbt_preds_df_hyper['loan_status_accepted'].value_counts())"
   ]
  },
  {
   "cell_type": "markdown",
   "metadata": {},
   "source": [
    "**Kesimpulan:**\n",
    "\n",
    "Dari seluruh total pinjaman yang diterima ada 8307 yang statusnya non-default dan 1466 default."
   ]
  },
  {
   "cell_type": "markdown",
   "metadata": {},
   "source": [
    "**BAD RATES**"
   ]
  },
  {
   "cell_type": "markdown",
   "metadata": {},
   "source": [
    "Menghitung persentase pinjaman **default** dari total pinjaman yang diterima."
   ]
  },
  {
   "cell_type": "code",
   "execution_count": 78,
   "metadata": {
    "ExecuteTime": {
     "end_time": "2020-06-19T08:16:42.699885Z",
     "start_time": "2020-06-19T08:16:42.674654Z"
    }
   },
   "outputs": [
    {
     "data": {
      "text/plain": [
       "0.15"
      ]
     },
     "execution_count": 78,
     "metadata": {},
     "output_type": "execute_result"
    }
   ],
   "source": [
    "# Create a subset of only accepted loans\n",
    "num_of_default = gbt_preds_df_hyper[gbt_preds_df_hyper['loan_status_accepted'] == 1]['loan_status_accepted'].sum()\n",
    "num_of_accepted_loan = gbt_preds_df_hyper['loan_status_accepted'].value_counts().sum()\n",
    "\n",
    "# Calculate the bad rate\n",
    "bad_rate = np.sum(num_of_default / num_of_accepted_loan).round(2)\n",
    "bad_rate"
   ]
  }
 ],
 "metadata": {
  "kernelspec": {
   "display_name": "Python 3",
   "language": "python",
   "name": "python3"
  },
  "language_info": {
   "codemirror_mode": {
    "name": "ipython",
    "version": 3
   },
   "file_extension": ".py",
   "mimetype": "text/x-python",
   "name": "python",
   "nbconvert_exporter": "python",
   "pygments_lexer": "ipython3",
   "version": "3.7.4"
  },
  "varInspector": {
   "cols": {
    "lenName": 16,
    "lenType": 16,
    "lenVar": 40
   },
   "kernels_config": {
    "python": {
     "delete_cmd_postfix": "",
     "delete_cmd_prefix": "del ",
     "library": "var_list.py",
     "varRefreshCmd": "print(var_dic_list())"
    },
    "r": {
     "delete_cmd_postfix": ") ",
     "delete_cmd_prefix": "rm(",
     "library": "var_list.r",
     "varRefreshCmd": "cat(var_dic_list()) "
    }
   },
   "types_to_exclude": [
    "module",
    "function",
    "builtin_function_or_method",
    "instance",
    "_Feature"
   ],
   "window_display": false
  }
 },
 "nbformat": 4,
 "nbformat_minor": 2
}
