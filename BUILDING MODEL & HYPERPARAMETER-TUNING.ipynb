{
 "cells": [
  {
   "cell_type": "markdown",
   "metadata": {
    "ExecuteTime": {
     "end_time": "2020-06-20T22:01:15.360781Z",
     "start_time": "2020-06-20T22:01:11.942945Z"
    }
   },
   "source": [
    "[**BUILDING MODEL & HYPER-PARAMETER TUNING**](#model_building)\n",
    "\n",
    "   1. [Feature Selection](#feature_selection)\n",
    "   \n",
    "   2. [Feature Scaling](#feature_scaling)\n",
    "\n",
    "   3. [Modeling](#modeling)\n",
    "   \n",
    "   4. [Cross Validation](#cross_validation)\n",
    "   \n",
    "   5. [Hyper-Parameter Tuning](#hyper_parameter_tuning)\n",
    "\n",
    "[**MODEL EVALUATION & IMPLEMENTATION**](#model_evaluation)\n",
    "\n",
    "   1. [Comparing Model Report](#comparing_model_report)\n",
    "   \n",
    "   2. [Comparing with ROC](#comparing_with_roc)\n",
    "   \n",
    "   3. [Acceptance Rates](#acceptance_rates)\n",
    "   \n",
    "   4. [Bad Rates](#bad_rates)\n",
    "   \n",
    "   5. [Expected Loss](#expected_loss)"
   ]
  },
  {
   "cell_type": "markdown",
   "metadata": {},
   "source": [
    "### MODEL BUILDING & HYPER-PARAMETER TUNING\n",
    "<a id=\"model_building\" > </a>"
   ]
  },
  {
   "cell_type": "markdown",
   "metadata": {},
   "source": [
    "Outcome dari model machine learning yang saya buat adalah untuk memprediksi apakah suatu pinjaman memiliki resiko **default** atau **non-default**.\n",
    "\n",
    "* Probability default antara 0 dan 1 (0 = non default, 1 = default) \n",
    "\n",
    "\n",
    " Probability of Default |     Interpretation       | Predicted Loan Status\n",
    " -----------------------| -----------------------  |----------------------\n",
    "0.4                     | Unlikely to default      | 0\n",
    "0.9                     | Very likely to default   | 1\n",
    "0.1                     | Very unlikely to default | 0"
   ]
  },
  {
   "cell_type": "markdown",
   "metadata": {},
   "source": [
    "**1. Feature Selection**\n",
    "<a id=\"feature_selection\" > </a>"
   ]
  },
  {
   "cell_type": "code",
   "execution_count": 34,
   "metadata": {
    "ExecuteTime": {
     "end_time": "2020-06-23T09:07:53.420545Z",
     "start_time": "2020-06-23T09:07:53.412564Z"
    }
   },
   "outputs": [],
   "source": [
    "X = df_clean.drop(['loan_status'], axis=1)\n",
    "y = df_clean['loan_status']"
   ]
  },
  {
   "cell_type": "markdown",
   "metadata": {},
   "source": [
    "* **Feature Selection using SelectKbest**"
   ]
  },
  {
   "cell_type": "code",
   "execution_count": 35,
   "metadata": {
    "ExecuteTime": {
     "end_time": "2020-06-23T09:07:53.462431Z",
     "start_time": "2020-06-23T09:07:53.424532Z"
    }
   },
   "outputs": [
    {
     "name": "stdout",
     "output_type": "stream",
     "text": [
      "            Specs         Score\n",
      "1   person_income  3.873329e+07\n",
      "3       loan_amnt  1.503011e+06\n",
      "4   loan_int_rate  3.411030e+03\n",
      "20   loan_grade_D  2.943448e+03\n",
      "21   loan_grade_E  1.025643e+03\n"
     ]
    }
   ],
   "source": [
    "# Apply SelectKBest class to extract top 5 best features\n",
    "bestfeatures = SelectKBest(score_func=chi2, k=5)\n",
    "fit = bestfeatures.fit(X,y)\n",
    "dfscores = pd.DataFrame(fit.scores_)\n",
    "dfcolumns = pd.DataFrame(X.columns)\n",
    "\n",
    "# Concat two dataframes for better visualization \n",
    "featureScores = pd.concat([dfcolumns,dfscores],axis=1)\n",
    "featureScores.columns = ['Specs','Score']  # Naming the dataframe columns\n",
    "print(featureScores.nlargest(5,'Score'))  # Print 10 best features"
   ]
  },
  {
   "cell_type": "markdown",
   "metadata": {},
   "source": [
    "* **Feature Selection using ExtraTreeClassifier**"
   ]
  },
  {
   "cell_type": "code",
   "execution_count": 36,
   "metadata": {
    "ExecuteTime": {
     "end_time": "2020-06-23T09:07:57.216067Z",
     "start_time": "2020-06-23T09:07:53.465423Z"
    }
   },
   "outputs": [
    {
     "name": "stdout",
     "output_type": "stream",
     "text": [
      "[0.06203776 0.11039081 0.0748078  0.08722658 0.08687562 0.21810155\n",
      " 0.05126266 0.02084045 0.00083623 0.01399424 0.03610671 0.02267624\n",
      " 0.0099163  0.00960475 0.01928573 0.00786398 0.00853131 0.01356684\n",
      " 0.01061862 0.02021182 0.06945044 0.02204174 0.00595915 0.00355501\n",
      " 0.00569387 0.00854381]\n"
     ]
    },
    {
     "data": {
      "image/png": "[encoded data removed]",
      "text/plain": [
       "<Figure size 432x288 with 1 Axes>"
      ]
     },
     "metadata": {},
     "output_type": "display_data"
    }
   ],
   "source": [
    "model = ExtraTreesClassifier()\n",
    "model.fit(X,y)\n",
    "print(model.feature_importances_) # Use inbuilt class feature_importances of tree based classifiers\n",
    "\n",
    "# Plot graph of feature importances for better visualization\n",
    "feat_importances = pd.Series(model.feature_importances_, index=X.columns)\n",
    "feat_importances.nlargest(5).plot(kind='barh')\n",
    "plt.show()"
   ]
  },
  {
   "cell_type": "markdown",
   "metadata": {},
   "source": [
    "**2. Feature Scaling**\n",
    "<a id=\"feature_scaling\" > </a>"
   ]
  },
  {
   "cell_type": "markdown",
   "metadata": {},
   "source": [
    "* **Feature Scaling using Standard Scaler**"
   ]
  },
  {
   "cell_type": "code",
   "execution_count": 37,
   "metadata": {
    "ExecuteTime": {
     "end_time": "2020-06-23T09:07:57.282889Z",
     "start_time": "2020-06-23T09:07:57.219062Z"
    }
   },
   "outputs": [],
   "source": [
    "standard = StandardScaler()\n",
    "df_scl = standard.fit_transform(X)"
   ]
  },
  {
   "cell_type": "code",
   "execution_count": 38,
   "metadata": {
    "ExecuteTime": {
     "end_time": "2020-06-23T09:07:57.325776Z",
     "start_time": "2020-06-23T09:07:57.285882Z"
    }
   },
   "outputs": [
    {
     "data": {
      "text/html": [
       "<div>\n",
       "<style scoped>\n",
       "    .dataframe tbody tr th:only-of-type {\n",
       "        vertical-align: middle;\n",
       "    }\n",
       "\n",
       "    .dataframe tbody tr th {\n",
       "        vertical-align: top;\n",
       "    }\n",
       "\n",
       "    .dataframe thead th {\n",
       "        text-align: right;\n",
       "    }\n",
       "</style>\n",
       "<table border=\"1\" class=\"dataframe\">\n",
       "  <thead>\n",
       "    <tr style=\"text-align: right;\">\n",
       "      <th></th>\n",
       "      <th>person_age</th>\n",
       "      <th>person_income</th>\n",
       "      <th>person_emp_length</th>\n",
       "      <th>loan_amnt</th>\n",
       "      <th>loan_int_rate</th>\n",
       "      <th>loan_percent_income</th>\n",
       "      <th>cb_person_cred_hist_length</th>\n",
       "      <th>person_home_ownership_MORTGAGE</th>\n",
       "      <th>person_home_ownership_OTHER</th>\n",
       "      <th>person_home_ownership_OWN</th>\n",
       "      <th>...</th>\n",
       "      <th>loan_intent_VENTURE</th>\n",
       "      <th>loan_grade_A</th>\n",
       "      <th>loan_grade_B</th>\n",
       "      <th>loan_grade_C</th>\n",
       "      <th>loan_grade_D</th>\n",
       "      <th>loan_grade_E</th>\n",
       "      <th>loan_grade_F</th>\n",
       "      <th>loan_grade_G</th>\n",
       "      <th>cb_person_default_on_file_N</th>\n",
       "      <th>cb_person_default_on_file_Y</th>\n",
       "    </tr>\n",
       "  </thead>\n",
       "  <tbody>\n",
       "    <tr>\n",
       "      <td>1</td>\n",
       "      <td>21</td>\n",
       "      <td>9600</td>\n",
       "      <td>5.0</td>\n",
       "      <td>1000</td>\n",
       "      <td>11.14</td>\n",
       "      <td>0.10</td>\n",
       "      <td>2</td>\n",
       "      <td>0</td>\n",
       "      <td>0</td>\n",
       "      <td>1</td>\n",
       "      <td>...</td>\n",
       "      <td>0</td>\n",
       "      <td>0</td>\n",
       "      <td>1</td>\n",
       "      <td>0</td>\n",
       "      <td>0</td>\n",
       "      <td>0</td>\n",
       "      <td>0</td>\n",
       "      <td>0</td>\n",
       "      <td>1</td>\n",
       "      <td>0</td>\n",
       "    </tr>\n",
       "    <tr>\n",
       "      <td>2</td>\n",
       "      <td>25</td>\n",
       "      <td>9600</td>\n",
       "      <td>1.0</td>\n",
       "      <td>5500</td>\n",
       "      <td>12.87</td>\n",
       "      <td>0.57</td>\n",
       "      <td>3</td>\n",
       "      <td>1</td>\n",
       "      <td>0</td>\n",
       "      <td>0</td>\n",
       "      <td>...</td>\n",
       "      <td>0</td>\n",
       "      <td>0</td>\n",
       "      <td>0</td>\n",
       "      <td>1</td>\n",
       "      <td>0</td>\n",
       "      <td>0</td>\n",
       "      <td>0</td>\n",
       "      <td>0</td>\n",
       "      <td>1</td>\n",
       "      <td>0</td>\n",
       "    </tr>\n",
       "    <tr>\n",
       "      <td>3</td>\n",
       "      <td>23</td>\n",
       "      <td>65500</td>\n",
       "      <td>4.0</td>\n",
       "      <td>35000</td>\n",
       "      <td>15.23</td>\n",
       "      <td>0.53</td>\n",
       "      <td>2</td>\n",
       "      <td>0</td>\n",
       "      <td>0</td>\n",
       "      <td>0</td>\n",
       "      <td>...</td>\n",
       "      <td>0</td>\n",
       "      <td>0</td>\n",
       "      <td>0</td>\n",
       "      <td>1</td>\n",
       "      <td>0</td>\n",
       "      <td>0</td>\n",
       "      <td>0</td>\n",
       "      <td>0</td>\n",
       "      <td>1</td>\n",
       "      <td>0</td>\n",
       "    </tr>\n",
       "    <tr>\n",
       "      <td>4</td>\n",
       "      <td>24</td>\n",
       "      <td>54400</td>\n",
       "      <td>8.0</td>\n",
       "      <td>35000</td>\n",
       "      <td>14.27</td>\n",
       "      <td>0.55</td>\n",
       "      <td>4</td>\n",
       "      <td>0</td>\n",
       "      <td>0</td>\n",
       "      <td>0</td>\n",
       "      <td>...</td>\n",
       "      <td>0</td>\n",
       "      <td>0</td>\n",
       "      <td>0</td>\n",
       "      <td>1</td>\n",
       "      <td>0</td>\n",
       "      <td>0</td>\n",
       "      <td>0</td>\n",
       "      <td>0</td>\n",
       "      <td>0</td>\n",
       "      <td>1</td>\n",
       "    </tr>\n",
       "    <tr>\n",
       "      <td>5</td>\n",
       "      <td>21</td>\n",
       "      <td>9900</td>\n",
       "      <td>2.0</td>\n",
       "      <td>2500</td>\n",
       "      <td>7.14</td>\n",
       "      <td>0.25</td>\n",
       "      <td>2</td>\n",
       "      <td>0</td>\n",
       "      <td>0</td>\n",
       "      <td>1</td>\n",
       "      <td>...</td>\n",
       "      <td>1</td>\n",
       "      <td>1</td>\n",
       "      <td>0</td>\n",
       "      <td>0</td>\n",
       "      <td>0</td>\n",
       "      <td>0</td>\n",
       "      <td>0</td>\n",
       "      <td>0</td>\n",
       "      <td>1</td>\n",
       "      <td>0</td>\n",
       "    </tr>\n",
       "  </tbody>\n",
       "</table>\n",
       "<p>5 rows × 26 columns</p>\n",
       "</div>"
      ],
      "text/plain": [
       "   person_age  person_income  person_emp_length  loan_amnt  loan_int_rate  \\\n",
       "1          21           9600                5.0       1000          11.14   \n",
       "2          25           9600                1.0       5500          12.87   \n",
       "3          23          65500                4.0      35000          15.23   \n",
       "4          24          54400                8.0      35000          14.27   \n",
       "5          21           9900                2.0       2500           7.14   \n",
       "\n",
       "   loan_percent_income  cb_person_cred_hist_length  \\\n",
       "1                 0.10                           2   \n",
       "2                 0.57                           3   \n",
       "3                 0.53                           2   \n",
       "4                 0.55                           4   \n",
       "5                 0.25                           2   \n",
       "\n",
       "   person_home_ownership_MORTGAGE  person_home_ownership_OTHER  \\\n",
       "1                               0                            0   \n",
       "2                               1                            0   \n",
       "3                               0                            0   \n",
       "4                               0                            0   \n",
       "5                               0                            0   \n",
       "\n",
       "   person_home_ownership_OWN  ...  loan_intent_VENTURE  loan_grade_A  \\\n",
       "1                          1  ...                    0             0   \n",
       "2                          0  ...                    0             0   \n",
       "3                          0  ...                    0             0   \n",
       "4                          0  ...                    0             0   \n",
       "5                          1  ...                    1             1   \n",
       "\n",
       "   loan_grade_B  loan_grade_C  loan_grade_D  loan_grade_E  loan_grade_F  \\\n",
       "1             1             0             0             0             0   \n",
       "2             0             1             0             0             0   \n",
       "3             0             1             0             0             0   \n",
       "4             0             1             0             0             0   \n",
       "5             0             0             0             0             0   \n",
       "\n",
       "   loan_grade_G  cb_person_default_on_file_N  cb_person_default_on_file_Y  \n",
       "1             0                            1                            0  \n",
       "2             0                            1                            0  \n",
       "3             0                            1                            0  \n",
       "4             0                            0                            1  \n",
       "5             0                            1                            0  \n",
       "\n",
       "[5 rows x 26 columns]"
      ]
     },
     "execution_count": 38,
     "metadata": {},
     "output_type": "execute_result"
    }
   ],
   "source": [
    "df_scl = df_clean.drop(['loan_status'], axis=1)\n",
    "df_scl.head()"
   ]
  },
  {
   "cell_type": "markdown",
   "metadata": {},
   "source": [
    "* **Feature Scaling using Robust Scaler**"
   ]
  },
  {
   "cell_type": "code",
   "execution_count": 39,
   "metadata": {
    "ExecuteTime": {
     "end_time": "2020-06-23T09:07:57.362677Z",
     "start_time": "2020-06-23T09:07:57.329766Z"
    }
   },
   "outputs": [
    {
     "data": {
      "text/html": [
       "<div>\n",
       "<style scoped>\n",
       "    .dataframe tbody tr th:only-of-type {\n",
       "        vertical-align: middle;\n",
       "    }\n",
       "\n",
       "    .dataframe tbody tr th {\n",
       "        vertical-align: top;\n",
       "    }\n",
       "\n",
       "    .dataframe thead th {\n",
       "        text-align: right;\n",
       "    }\n",
       "</style>\n",
       "<table border=\"1\" class=\"dataframe\">\n",
       "  <thead>\n",
       "    <tr style=\"text-align: right;\">\n",
       "      <th></th>\n",
       "      <th>person_age</th>\n",
       "      <th>person_income</th>\n",
       "      <th>person_emp_length</th>\n",
       "      <th>loan_amnt</th>\n",
       "      <th>loan_int_rate</th>\n",
       "      <th>loan_percent_income</th>\n",
       "      <th>cb_person_cred_hist_length</th>\n",
       "      <th>person_home_ownership_MORTGAGE</th>\n",
       "      <th>person_home_ownership_OTHER</th>\n",
       "      <th>person_home_ownership_OWN</th>\n",
       "      <th>...</th>\n",
       "      <th>loan_intent_VENTURE</th>\n",
       "      <th>loan_grade_A</th>\n",
       "      <th>loan_grade_B</th>\n",
       "      <th>loan_grade_C</th>\n",
       "      <th>loan_grade_D</th>\n",
       "      <th>loan_grade_E</th>\n",
       "      <th>loan_grade_F</th>\n",
       "      <th>loan_grade_G</th>\n",
       "      <th>cb_person_default_on_file_N</th>\n",
       "      <th>cb_person_default_on_file_Y</th>\n",
       "    </tr>\n",
       "  </thead>\n",
       "  <tbody>\n",
       "    <tr>\n",
       "      <td>1</td>\n",
       "      <td>21</td>\n",
       "      <td>9600</td>\n",
       "      <td>5.0</td>\n",
       "      <td>1000</td>\n",
       "      <td>11.14</td>\n",
       "      <td>0.10</td>\n",
       "      <td>2</td>\n",
       "      <td>0</td>\n",
       "      <td>0</td>\n",
       "      <td>1</td>\n",
       "      <td>...</td>\n",
       "      <td>0</td>\n",
       "      <td>0</td>\n",
       "      <td>1</td>\n",
       "      <td>0</td>\n",
       "      <td>0</td>\n",
       "      <td>0</td>\n",
       "      <td>0</td>\n",
       "      <td>0</td>\n",
       "      <td>1</td>\n",
       "      <td>0</td>\n",
       "    </tr>\n",
       "    <tr>\n",
       "      <td>2</td>\n",
       "      <td>25</td>\n",
       "      <td>9600</td>\n",
       "      <td>1.0</td>\n",
       "      <td>5500</td>\n",
       "      <td>12.87</td>\n",
       "      <td>0.57</td>\n",
       "      <td>3</td>\n",
       "      <td>1</td>\n",
       "      <td>0</td>\n",
       "      <td>0</td>\n",
       "      <td>...</td>\n",
       "      <td>0</td>\n",
       "      <td>0</td>\n",
       "      <td>0</td>\n",
       "      <td>1</td>\n",
       "      <td>0</td>\n",
       "      <td>0</td>\n",
       "      <td>0</td>\n",
       "      <td>0</td>\n",
       "      <td>1</td>\n",
       "      <td>0</td>\n",
       "    </tr>\n",
       "    <tr>\n",
       "      <td>3</td>\n",
       "      <td>23</td>\n",
       "      <td>65500</td>\n",
       "      <td>4.0</td>\n",
       "      <td>35000</td>\n",
       "      <td>15.23</td>\n",
       "      <td>0.53</td>\n",
       "      <td>2</td>\n",
       "      <td>0</td>\n",
       "      <td>0</td>\n",
       "      <td>0</td>\n",
       "      <td>...</td>\n",
       "      <td>0</td>\n",
       "      <td>0</td>\n",
       "      <td>0</td>\n",
       "      <td>1</td>\n",
       "      <td>0</td>\n",
       "      <td>0</td>\n",
       "      <td>0</td>\n",
       "      <td>0</td>\n",
       "      <td>1</td>\n",
       "      <td>0</td>\n",
       "    </tr>\n",
       "    <tr>\n",
       "      <td>4</td>\n",
       "      <td>24</td>\n",
       "      <td>54400</td>\n",
       "      <td>8.0</td>\n",
       "      <td>35000</td>\n",
       "      <td>14.27</td>\n",
       "      <td>0.55</td>\n",
       "      <td>4</td>\n",
       "      <td>0</td>\n",
       "      <td>0</td>\n",
       "      <td>0</td>\n",
       "      <td>...</td>\n",
       "      <td>0</td>\n",
       "      <td>0</td>\n",
       "      <td>0</td>\n",
       "      <td>1</td>\n",
       "      <td>0</td>\n",
       "      <td>0</td>\n",
       "      <td>0</td>\n",
       "      <td>0</td>\n",
       "      <td>0</td>\n",
       "      <td>1</td>\n",
       "    </tr>\n",
       "    <tr>\n",
       "      <td>5</td>\n",
       "      <td>21</td>\n",
       "      <td>9900</td>\n",
       "      <td>2.0</td>\n",
       "      <td>2500</td>\n",
       "      <td>7.14</td>\n",
       "      <td>0.25</td>\n",
       "      <td>2</td>\n",
       "      <td>0</td>\n",
       "      <td>0</td>\n",
       "      <td>1</td>\n",
       "      <td>...</td>\n",
       "      <td>1</td>\n",
       "      <td>1</td>\n",
       "      <td>0</td>\n",
       "      <td>0</td>\n",
       "      <td>0</td>\n",
       "      <td>0</td>\n",
       "      <td>0</td>\n",
       "      <td>0</td>\n",
       "      <td>1</td>\n",
       "      <td>0</td>\n",
       "    </tr>\n",
       "  </tbody>\n",
       "</table>\n",
       "<p>5 rows × 26 columns</p>\n",
       "</div>"
      ],
      "text/plain": [
       "   person_age  person_income  person_emp_length  loan_amnt  loan_int_rate  \\\n",
       "1          21           9600                5.0       1000          11.14   \n",
       "2          25           9600                1.0       5500          12.87   \n",
       "3          23          65500                4.0      35000          15.23   \n",
       "4          24          54400                8.0      35000          14.27   \n",
       "5          21           9900                2.0       2500           7.14   \n",
       "\n",
       "   loan_percent_income  cb_person_cred_hist_length  \\\n",
       "1                 0.10                           2   \n",
       "2                 0.57                           3   \n",
       "3                 0.53                           2   \n",
       "4                 0.55                           4   \n",
       "5                 0.25                           2   \n",
       "\n",
       "   person_home_ownership_MORTGAGE  person_home_ownership_OTHER  \\\n",
       "1                               0                            0   \n",
       "2                               1                            0   \n",
       "3                               0                            0   \n",
       "4                               0                            0   \n",
       "5                               0                            0   \n",
       "\n",
       "   person_home_ownership_OWN  ...  loan_intent_VENTURE  loan_grade_A  \\\n",
       "1                          1  ...                    0             0   \n",
       "2                          0  ...                    0             0   \n",
       "3                          0  ...                    0             0   \n",
       "4                          0  ...                    0             0   \n",
       "5                          1  ...                    1             1   \n",
       "\n",
       "   loan_grade_B  loan_grade_C  loan_grade_D  loan_grade_E  loan_grade_F  \\\n",
       "1             1             0             0             0             0   \n",
       "2             0             1             0             0             0   \n",
       "3             0             1             0             0             0   \n",
       "4             0             1             0             0             0   \n",
       "5             0             0             0             0             0   \n",
       "\n",
       "   loan_grade_G  cb_person_default_on_file_N  cb_person_default_on_file_Y  \n",
       "1             0                            1                            0  \n",
       "2             0                            1                            0  \n",
       "3             0                            1                            0  \n",
       "4             0                            0                            1  \n",
       "5             0                            1                            0  \n",
       "\n",
       "[5 rows x 26 columns]"
      ]
     },
     "execution_count": 39,
     "metadata": {},
     "output_type": "execute_result"
    }
   ],
   "source": [
    "df_robust = df_clean.drop(['loan_status'], axis=1)\n",
    "df_robust.head()"
   ]
  },
  {
   "cell_type": "code",
   "execution_count": 40,
   "metadata": {
    "ExecuteTime": {
     "end_time": "2020-06-23T09:07:57.428500Z",
     "start_time": "2020-06-23T09:07:57.365670Z"
    }
   },
   "outputs": [],
   "source": [
    "robust = RobustScaler()\n",
    "df_robust = robust.fit_transform(X)"
   ]
  },
  {
   "cell_type": "markdown",
   "metadata": {},
   "source": [
    "**3. Modeling**\n",
    "<a id=\"modeling\" > </a>"
   ]
  },
  {
   "cell_type": "code",
   "execution_count": 41,
   "metadata": {
    "ExecuteTime": {
     "end_time": "2020-06-23T09:07:57.992367Z",
     "start_time": "2020-06-23T09:07:57.431494Z"
    }
   },
   "outputs": [],
   "source": [
    "# Load Library\n",
    "from sklearn.linear_model import LogisticRegression\n",
    "from sklearn.ensemble import RandomForestClassifier\n",
    "import xgboost as xgb\n",
    "from sklearn.metrics import confusion_matrix\n",
    "from sklearn.metrics import classification_report\n",
    "from sklearn.metrics import roc_auc_score, roc_curve, accuracy_score, precision_recall_fscore_support\n",
    "from sklearn.model_selection import train_test_split, KFold, cross_val_score, GridSearchCV, RandomizedSearchCV\n",
    "from sklearn.calibration import calibration_curve\n",
    "import warnings\n",
    "warnings.filterwarnings(\"ignore\")"
   ]
  },
  {
   "cell_type": "markdown",
   "metadata": {
    "ExecuteTime": {
     "end_time": "2020-06-18T03:48:45.154029Z",
     "start_time": "2020-06-18T03:48:45.135584Z"
    }
   },
   "source": [
    "Saya akan menggunakan 2 algoritma ML, yaitu:\n",
    "    1. Logistic Regression\n",
    "    2. Random Forest\n",
    "    3. XGBoost"
   ]
  },
  {
   "cell_type": "markdown",
   "metadata": {},
   "source": [
    "**LOGISTIC REGRESSION**"
   ]
  },
  {
   "cell_type": "code",
   "execution_count": 42,
   "metadata": {
    "ExecuteTime": {
     "end_time": "2020-06-23T09:07:58.062181Z",
     "start_time": "2020-06-23T09:07:57.995374Z"
    }
   },
   "outputs": [
    {
     "name": "stdout",
     "output_type": "stream",
     "text": [
      "[-1.94530645e-09]\n",
      "[[ 2.67963667e-09 -4.12701078e-05  9.75995839e-08  1.09127973e-04\n",
      "  -2.29757337e-08]]\n"
     ]
    }
   ],
   "source": [
    "# Create X and y data for the model use result of feature selection with ExtraTreeClassifier\n",
    "X = df_scl[['loan_percent_income','person_income','loan_int_rate','loan_amnt','person_emp_length']]\n",
    "y = df_clean['loan_status']\n",
    "\n",
    "# Use test_train_split to create the training and test sets\n",
    "X_train, X_test, y_train, y_test = train_test_split(X, y, test_size=0.3, random_state=101)\n",
    "\n",
    "# Create and train a new logistic regression\n",
    "log_reg = LogisticRegression().fit(X_train, y_train)\n",
    "\n",
    "# Print the intercept of the model\n",
    "print(log_reg.intercept_)\n",
    "\n",
    "# Print the coeficient of the model\n",
    "print(log_reg.coef_)"
   ]
  },
  {
   "cell_type": "code",
   "execution_count": 43,
   "metadata": {
    "ExecuteTime": {
     "end_time": "2020-06-23T09:07:58.082126Z",
     "start_time": "2020-06-23T09:07:58.065173Z"
    }
   },
   "outputs": [
    {
     "name": "stdout",
     "output_type": "stream",
     "text": [
      "   loan_status  prob_default\n",
      "0            0      0.313930\n",
      "1            0      0.000657\n",
      "2            0      0.243339\n",
      "3            0      0.432167\n",
      "4            0      0.220640\n",
      "5            0      0.395772\n",
      "6            0      0.264517\n",
      "7            0      0.318181\n",
      "8            0      0.142722\n",
      "9            1      0.439584\n"
     ]
    }
   ],
   "source": [
    "# Create predictions of probability for loan status using test data\n",
    "lr_preds = log_reg.predict_proba(X_test)\n",
    "\n",
    "# Create dataframes of first ten predictions, and first ten true labels\n",
    "lr_preds_df = pd.DataFrame(lr_preds[:,1][:10], columns = ['prob_default'])\n",
    "lr_true_df = y_test.head(10)\n",
    "\n",
    "# Concatenate and print the two data frames for comparison\n",
    "print(pd.concat([lr_true_df.reset_index(drop = True), lr_preds_df], axis = 1))"
   ]
  },
  {
   "cell_type": "markdown",
   "metadata": {},
   "source": [
    "**Kesimpulan:**\n",
    "\n",
    "Berdasarkan hasil comparison diatas ada yang probability of defaultnya 0.43 tapi aktualnya adalah 0 (non-default) ada juga yang aktualnya 1 (default). Oleh karena itu, saya coba menentukan treshold di titik mana suatu prediksi termasuk non-default atau default lalu dicompare ulang dengan menggunakan confusion matrix dan classification report."
   ]
  },
  {
   "cell_type": "markdown",
   "metadata": {},
   "source": [
    "* **Treshold = 0.5**\n",
    "\n",
    "    Apabila hasil predict_proba > 0.5 maka termasuk **default**."
   ]
  },
  {
   "cell_type": "code",
   "execution_count": 44,
   "metadata": {
    "ExecuteTime": {
     "end_time": "2020-06-23T09:07:58.406261Z",
     "start_time": "2020-06-23T09:07:58.084122Z"
    }
   },
   "outputs": [
    {
     "name": "stdout",
     "output_type": "stream",
     "text": [
      "\n",
      "\u001b[1m------------------ Classification Report -------------------\u001b[0m\n",
      "\n",
      "              precision    recall  f1-score   support\n",
      "\n",
      " Non-Default       0.81      0.98      0.89      7619\n",
      "     Default       0.71      0.17      0.27      2154\n",
      "\n",
      "    accuracy                           0.80      9773\n",
      "   macro avg       0.76      0.58      0.58      9773\n",
      "weighted avg       0.79      0.80      0.75      9773\n",
      "\n",
      "\n",
      "\u001b[1m--------------------- Confusion Matrix ---------------------\u001b[0m\n",
      "\n"
     ]
    },
    {
     "data": {
      "text/plain": [
       "<matplotlib.axes._subplots.AxesSubplot at 0x2778623cc08>"
      ]
     },
     "execution_count": 44,
     "metadata": {},
     "output_type": "execute_result"
    },
    {
     "data": {
      "image/png": "[encoded data removed]",
      "text/plain": [
       "<Figure size 432x288 with 2 Axes>"
      ]
     },
     "metadata": {},
     "output_type": "display_data"
    }
   ],
   "source": [
    "# Create a dataframe for the probabilities of default\n",
    "lr_preds_df = pd.DataFrame(lr_preds[:,1], columns = ['prob_default'])\n",
    "\n",
    "# Reassign loan status based on the threshold\n",
    "lr_preds_df['loan_status'] = lr_preds_df['prob_default'].apply(lambda x: 1 if x > 0.5 else 0)\n",
    "\n",
    "# Print the classification report\n",
    "target_names = ['Non-Default', 'Default']\n",
    "print('\\n' + '\\033[1m' + ' Classification Report '.center(60,'-') + '\\033[0m' + '\\n')\n",
    "print(classification_report(y_test, lr_preds_df['loan_status'], target_names=target_names))\n",
    "\n",
    "# Print the confusion matrix\n",
    "print('\\n' + '\\033[1m' + ' Confusion Matrix '.center(60,'-') + '\\033[0m' + '\\n')\n",
    "sns.heatmap(confusion_matrix(y_test, lr_preds_df['loan_status']), cmap='coolwarm', fmt='.4g', annot=True)"
   ]
  },
  {
   "cell_type": "markdown",
   "metadata": {},
   "source": [
    "**Kesimpulan:**\n",
    "\n",
    "Hasil dari recall default hanya 0.17, artinya hasil prediksi default dari model yang saya buat hanya 17% benar dari seluruh yang actualnya default. Maka dari itu saya coba untuk menurunkan treshold menjadi 0.4 untuk melihat apakah ada peningkatan recall default. "
   ]
  },
  {
   "cell_type": "markdown",
   "metadata": {},
   "source": [
    "* **Treshold = 0.4**\n",
    "\n",
    "    Apabila hasil predict_proba > 0.4 maka termasuk **default**."
   ]
  },
  {
   "cell_type": "code",
   "execution_count": 45,
   "metadata": {
    "ExecuteTime": {
     "end_time": "2020-06-23T09:07:58.759319Z",
     "start_time": "2020-06-23T09:07:58.409255Z"
    }
   },
   "outputs": [
    {
     "name": "stdout",
     "output_type": "stream",
     "text": [
      "\n",
      "\u001b[1m------------------ Classification Report -------------------\u001b[0m\n",
      "\n",
      "              precision    recall  f1-score   support\n",
      "\n",
      " Non-Default       0.86      0.92      0.89      7619\n",
      "     Default       0.62      0.45      0.53      2154\n",
      "\n",
      "    accuracy                           0.82      9773\n",
      "   macro avg       0.74      0.69      0.71      9773\n",
      "weighted avg       0.81      0.82      0.81      9773\n",
      "\n",
      "\n",
      "\u001b[1m--------------------- Confusion Matrix ---------------------\u001b[0m\n",
      "\n"
     ]
    },
    {
     "data": {
      "text/plain": [
       "<matplotlib.axes._subplots.AxesSubplot at 0x277863fcfc8>"
      ]
     },
     "execution_count": 45,
     "metadata": {},
     "output_type": "execute_result"
    },
    {
     "data": {
      "image/png": "[encoded data removed]",
      "text/plain": [
       "<Figure size 432x288 with 2 Axes>"
      ]
     },
     "metadata": {},
     "output_type": "display_data"
    }
   ],
   "source": [
    "# Create a dataframe for the probabilities of default\n",
    "lr_preds_df = pd.DataFrame(lr_preds[:,1], columns = ['prob_default'])\n",
    "\n",
    "# Reassign loan status based on the threshold\n",
    "lr_preds_df['loan_status'] = lr_preds_df['prob_default'].apply(lambda x: 1 if x > 0.4 else 0)\n",
    "\n",
    "# Print the classification report\n",
    "target_names = ['Non-Default', 'Default']\n",
    "print('\\n' + '\\033[1m' + ' Classification Report '.center(60,'-') + '\\033[0m' + '\\n')\n",
    "print(classification_report(y_test, lr_preds_df['loan_status'], target_names=target_names))\n",
    "\n",
    "# Print the confusion matrix\n",
    "print('\\n' + '\\033[1m' + ' Confusion Matrix '.center(60,'-') + '\\033[0m' + '\\n')\n",
    "sns.heatmap(confusion_matrix(y_test, lr_preds_df['loan_status']), cmap='coolwarm', fmt='.4g', annot=True)"
   ]
  },
  {
   "cell_type": "markdown",
   "metadata": {},
   "source": [
    "**Kesimpulan:**\n",
    "\n",
    "Terdapat peningkatan recall default dari 0.17 ke 0.46. "
   ]
  },
  {
   "cell_type": "code",
   "execution_count": 46,
   "metadata": {
    "ExecuteTime": {
     "end_time": "2020-06-23T09:07:59.066497Z",
     "start_time": "2020-06-23T09:07:58.762311Z"
    }
   },
   "outputs": [
    {
     "data": {
      "image/png": "[encoded data removed]",
      "text/plain": [
       "<Figure size 432x288 with 1 Axes>"
      ]
     },
     "metadata": {},
     "output_type": "display_data"
    },
    {
     "name": "stdout",
     "output_type": "stream",
     "text": [
      "Accuracy Score: 0.8021078481530748\n",
      "AUC Score: 0.7563946082114268\n"
     ]
    }
   ],
   "source": [
    "# Plot the ROC curve of the probabilities of default\n",
    "lr_prob_default = lr_preds[:,1]\n",
    "fallout, sensitivity, thresholds = roc_curve(y_test, lr_prob_default)\n",
    "plt.plot(fallout, sensitivity, color = 'darkorange')\n",
    "plt.plot([0, 1], [0, 1], linestyle='--')\n",
    "plt.show()\n",
    "\n",
    "# Print the accuracy score the model\n",
    "lr_acc_score = log_reg.score(X_test, y_test)\n",
    "print('Accuracy Score: ' + str(lr_acc_score))\n",
    "\n",
    "# Compute the AUC and store it in a variable\n",
    "lr_auc_score = roc_auc_score(y_test, lr_prob_default)\n",
    "print('AUC Score: ' + str(lr_auc_score))"
   ]
  },
  {
   "cell_type": "markdown",
   "metadata": {},
   "source": [
    "**A. Default Recall Impact**\n",
    "\n",
    "Menghitung **unexpected loss** berdasarkan **default recall**."
   ]
  },
  {
   "cell_type": "markdown",
   "metadata": {},
   "source": [
    "* **Treshold = 0.4**"
   ]
  },
  {
   "cell_type": "code",
   "execution_count": 47,
   "metadata": {
    "ExecuteTime": {
     "end_time": "2020-06-23T09:07:59.106391Z",
     "start_time": "2020-06-23T09:07:59.069489Z"
    }
   },
   "outputs": [
    {
     "name": "stdout",
     "output_type": "stream",
     "text": [
      "\n",
      "\u001b[1m------------------ Classification Report -------------------\u001b[0m\n",
      "\n",
      "              precision    recall  f1-score   support\n",
      "\n",
      " Non-Default       0.86      0.92      0.89      7619\n",
      "     Default       0.62      0.45      0.53      2154\n",
      "\n",
      "    accuracy                           0.82      9773\n",
      "   macro avg       0.74      0.69      0.71      9773\n",
      "weighted avg       0.81      0.82      0.81      9773\n",
      "\n",
      "\n",
      "\u001b[1m------------------- Average Loan Amount --------------------\u001b[0m\n",
      "\n",
      "9588.018051206484\n"
     ]
    }
   ],
   "source": [
    "# Print the classification report\n",
    "target_names = ['Non-Default', 'Default']\n",
    "print('\\n' + '\\033[1m' + ' Classification Report '.center(60,'-') + '\\033[0m' + '\\n')\n",
    "print(classification_report(y_test, lr_preds_df['loan_status'], target_names=target_names))\n",
    "\n",
    "# Print average loan amount\n",
    "print('\\n' + '\\033[1m' + ' Average Loan Amount '.center(60,'-') + '\\033[0m' + '\\n')\n",
    "print(df_clean['loan_amnt'].mean())"
   ]
  },
  {
   "cell_type": "markdown",
   "metadata": {},
   "source": [
    "Dari hasil confusion matrix dan classification report di atas diketahui:\n",
    "\n",
    "- Number True of Default = **2154** (Hasil dari TP + FN)\n",
    "\n",
    "- Recall Default = **45%** (Hasil dari TP / (TP + FN))\n",
    "\n",
    "- Not Predicted = **55%** \n",
    "\n",
    "Loan Amount | Default Predicted / Not Predicted| Estimated Loss on Default\n",
    "------------|----------------------------------|----------------------------\n",
    "$ 9588      |       0.45/0.55                  | (2154 x 0.55) x 9588   \n",
    "                                               \n",
    "                                                                                  $11.358.903"
   ]
  },
  {
   "cell_type": "markdown",
   "metadata": {},
   "source": [
    "* **Treshold = 0.5**"
   ]
  },
  {
   "cell_type": "code",
   "execution_count": 48,
   "metadata": {
    "ExecuteTime": {
     "end_time": "2020-06-23T09:07:59.136310Z",
     "start_time": "2020-06-23T09:07:59.109382Z"
    }
   },
   "outputs": [
    {
     "name": "stdout",
     "output_type": "stream",
     "text": [
      "17143376.27555719\n"
     ]
    }
   ],
   "source": [
    "# Average loan amount\n",
    "avg_loan_amnt = df_clean['loan_amnt'].mean() \n",
    "\n",
    "# Reassign the values of loan status based on the new threshold\n",
    "lr_preds_df['loan_status'] = lr_preds_df['prob_default'].apply(lambda x: 1 if x > 0.5 else 0)\n",
    "\n",
    "# Store the number of actual loan defaults \n",
    "num_defaults = y_test.value_counts()[1]\n",
    "\n",
    "# Store the default recall from the classification report\n",
    "default_recall = precision_recall_fscore_support(y_test, lr_preds_df['loan_status'])[1][1]\n",
    "\n",
    "# Calculate the estimated impact of the new default recall rate\n",
    "print(num_defaults * avg_loan_amnt * (1 - default_recall))"
   ]
  },
  {
   "cell_type": "code",
   "execution_count": 49,
   "metadata": {
    "ExecuteTime": {
     "end_time": "2020-06-23T09:07:59.151270Z",
     "start_time": "2020-06-23T09:07:59.141297Z"
    }
   },
   "outputs": [
    {
     "data": {
      "text/plain": [
       "-5784473"
      ]
     },
     "execution_count": 49,
     "metadata": {},
     "output_type": "execute_result"
    }
   ],
   "source": [
    "# Selisih antara treshold 0.5 dengan treshold 0.4\n",
    "11358903 - 17143376 "
   ]
  },
  {
   "cell_type": "markdown",
   "metadata": {
    "ExecuteTime": {
     "end_time": "2020-06-17T08:36:02.326089Z",
     "start_time": "2020-06-17T08:36:02.319752Z"
    }
   },
   "source": [
    "**Kesimpulan:**\n",
    "\n",
    "Terdapat perbedaan yang signifikan antara treshold 0.5 dan treshold 0.4. Hal ini sangat penting untuk meningkatkan recall default agar bisa mengurangi potensi kerugian perusahaan.  "
   ]
  },
  {
   "cell_type": "markdown",
   "metadata": {},
   "source": [
    "**B. Threshold Selection**"
   ]
  },
  {
   "cell_type": "code",
   "execution_count": 50,
   "metadata": {
    "ExecuteTime": {
     "end_time": "2020-06-23T09:07:59.423542Z",
     "start_time": "2020-06-23T09:07:59.154262Z"
    }
   },
   "outputs": [
    {
     "data": {
      "image/png": "[encoded data removed]",
      "text/plain": [
       "<Figure size 432x288 with 1 Axes>"
      ]
     },
     "metadata": {},
     "output_type": "display_data"
    }
   ],
   "source": [
    "thresh = [0.2, 0.225, 0.25, 0.275, 0.3, 0.325, 0.35, 0.375, 0.4,\n",
    "          0.425, 0.45, 0.475, 0.5, 0.525, 0.55, 0.575, 0.6, 0.625, 0.65]\n",
    "def_recalls = [0.79, 0.75, 0.71, 0.67, 0.63, 0.59, 0.54, 0.50, 0.46, \n",
    "              0.39, 0.32, 0.23, 0.16, 0.11, 0.07, 0.05, 0.03, 0.02, 0.01]\n",
    "nondef_recalls = [0.53, 0.59, 0.65, 0.70, 0.75, 0.80, 0.84, 0.88, 0.92, \n",
    "                  0.94,0.96, 0.97, 0.980, 0.985, 0.990, 0.992, 0.994, 0.996, 0.997]\n",
    "accs = [0.59, 0.63, 0.66, 0.70, 0.72, 0.75, 0.78, 0.80, 0.821, 0.828, 0.823, \n",
    "        0.811, 0.802, 0.794, 0.789, 0.786, 0.784,0.783, 0.782]\n",
    "ticks = [0.2, 0.25, 0.3, 0.35, 0.4, 0.45, 0.5, 0.55, 0.6, 0.65]\n",
    "\n",
    "plt.plot(thresh,def_recalls)\n",
    "plt.plot(thresh,nondef_recalls)\n",
    "plt.plot(thresh,accs)\n",
    "plt.xlabel(\"Probability Threshold\")\n",
    "plt.xticks(ticks)\n",
    "plt.legend([\"Default Recall\",\"Non-default Recall\",\"Model Accuracy\"])\n",
    "plt.show()"
   ]
  },
  {
   "cell_type": "markdown",
   "metadata": {},
   "source": [
    "**RANDOM FOREST**"
   ]
  },
  {
   "cell_type": "code",
   "execution_count": 51,
   "metadata": {
    "ExecuteTime": {
     "end_time": "2020-06-23T09:08:02.414256Z",
     "start_time": "2020-06-23T09:07:59.426534Z"
    }
   },
   "outputs": [
    {
     "name": "stdout",
     "output_type": "stream",
     "text": [
      "   loan_status  prob_default\n",
      "0            0          0.15\n",
      "1            0          0.10\n",
      "2            0          0.01\n",
      "3            0          0.17\n",
      "4            0          0.01\n",
      "5            0          0.18\n",
      "6            0          0.04\n",
      "7            0          0.21\n",
      "8            0          0.00\n",
      "9            1          0.57\n"
     ]
    }
   ],
   "source": [
    "# Create a new XGBoost\n",
    "rf = RandomForestClassifier().fit(X_train, y_train)\n",
    "\n",
    "# Predict with a model\n",
    "rf_preds = rf.predict_proba(X_test)\n",
    "\n",
    "# Create dataframes of first ten predictions, and first ten true labels\n",
    "rf_preds_df = pd.DataFrame(rf_preds[:,1][0:10], columns = ['prob_default'])\n",
    "rf_true_df = y_test.head(10)\n",
    "\n",
    "# Concatenate and print the two data frames for comparison\n",
    "print(pd.concat([rf_true_df.reset_index(drop = True), rf_preds_df], axis = 1))"
   ]
  },
  {
   "cell_type": "markdown",
   "metadata": {},
   "source": [
    "**Threshold = 0.5**"
   ]
  },
  {
   "cell_type": "code",
   "execution_count": 52,
   "metadata": {
    "ExecuteTime": {
     "end_time": "2020-06-23T09:08:02.732408Z",
     "start_time": "2020-06-23T09:08:02.417249Z"
    }
   },
   "outputs": [
    {
     "name": "stdout",
     "output_type": "stream",
     "text": [
      "\n",
      "\u001b[1m------------------ Classification Report -------------------\u001b[0m\n",
      "\n",
      "              precision    recall  f1-score   support\n",
      "\n",
      " Non-Default       0.90      0.95      0.92      7619\n",
      "     Default       0.76      0.62      0.69      2154\n",
      "\n",
      "    accuracy                           0.87      9773\n",
      "   macro avg       0.83      0.78      0.80      9773\n",
      "weighted avg       0.87      0.87      0.87      9773\n",
      "\n",
      "\n",
      "\u001b[1m--------------------- Confusion Matrix ---------------------\u001b[0m\n",
      "\n"
     ]
    },
    {
     "data": {
      "text/plain": [
       "<matplotlib.axes._subplots.AxesSubplot at 0x27786490308>"
      ]
     },
     "execution_count": 52,
     "metadata": {},
     "output_type": "execute_result"
    },
    {
     "data": {
      "image/png": "[encoded data removed]",
      "text/plain": [
       "<Figure size 432x288 with 2 Axes>"
      ]
     },
     "metadata": {},
     "output_type": "display_data"
    }
   ],
   "source": [
    "# Create a dataframe for the probabilities of default\n",
    "rf_preds_df = pd.DataFrame(rf_preds[:,1], columns = ['prob_default'])\n",
    "\n",
    "# Reassign loan status based on the threshold\n",
    "rf_preds_df['loan_status'] = rf_preds_df['prob_default'].apply(lambda x: 1 if x > 0.5 else 0)\n",
    "\n",
    "# Print the classification report\n",
    "target_names = ['Non-Default', 'Default']\n",
    "print('\\n' + '\\033[1m' + ' Classification Report '.center(60,'-') + '\\033[0m' + '\\n')\n",
    "print(classification_report(y_test, rf_preds_df['loan_status'], target_names=target_names))\n",
    "\n",
    "# Print the confusion matrix\n",
    "print('\\n' + '\\033[1m' + ' Confusion Matrix '.center(60,'-') + '\\033[0m' + '\\n')\n",
    "sns.heatmap(confusion_matrix(y_test, rf_preds_df['loan_status']), cmap='coolwarm', fmt='.4g', annot=True)"
   ]
  },
  {
   "cell_type": "markdown",
   "metadata": {},
   "source": [
    "**Threshold = 0.4**"
   ]
  },
  {
   "cell_type": "code",
   "execution_count": 53,
   "metadata": {
    "ExecuteTime": {
     "end_time": "2020-06-23T09:08:03.044569Z",
     "start_time": "2020-06-23T09:08:02.735398Z"
    }
   },
   "outputs": [
    {
     "name": "stdout",
     "output_type": "stream",
     "text": [
      "\n",
      "\u001b[1m------------------ Classification Report -------------------\u001b[0m\n",
      "\n",
      "              precision    recall  f1-score   support\n",
      "\n",
      " Non-Default       0.91      0.92      0.92      7619\n",
      "     Default       0.71      0.69      0.70      2154\n",
      "\n",
      "    accuracy                           0.87      9773\n",
      "   macro avg       0.81      0.81      0.81      9773\n",
      "weighted avg       0.87      0.87      0.87      9773\n",
      "\n",
      "\n",
      "\u001b[1m--------------------- Confusion Matrix ---------------------\u001b[0m\n",
      "\n"
     ]
    },
    {
     "data": {
      "text/plain": [
       "<matplotlib.axes._subplots.AxesSubplot at 0x27789540e48>"
      ]
     },
     "execution_count": 53,
     "metadata": {},
     "output_type": "execute_result"
    },
    {
     "data": {
      "image/png": "[encoded data removed]",
      "text/plain": [
       "<Figure size 432x288 with 2 Axes>"
      ]
     },
     "metadata": {},
     "output_type": "display_data"
    }
   ],
   "source": [
    "# Create a dataframe for the probabilities of default\n",
    "rf_preds_df = pd.DataFrame(rf_preds[:,1], columns = ['prob_default'])\n",
    "\n",
    "# Reassign loan status based on the threshold\n",
    "rf_preds_df['loan_status'] = rf_preds_df['prob_default'].apply(lambda x: 1 if x > 0.4 else 0)\n",
    "\n",
    "# Print the classification report\n",
    "target_names = ['Non-Default', 'Default']\n",
    "print('\\n' + '\\033[1m' + ' Classification Report '.center(60,'-') + '\\033[0m' + '\\n')\n",
    "print(classification_report(y_test, rf_preds_df['loan_status'], target_names=target_names))\n",
    "\n",
    "# Print the confusion matrix\n",
    "print('\\n' + '\\033[1m' + ' Confusion Matrix '.center(60,'-') + '\\033[0m' + '\\n')\n",
    "sns.heatmap(confusion_matrix(y_test, rf_preds_df['loan_status']), cmap='coolwarm', fmt='.4g', annot=True)"
   ]
  },
  {
   "cell_type": "code",
   "execution_count": 54,
   "metadata": {
    "ExecuteTime": {
     "end_time": "2020-06-23T09:08:03.571162Z",
     "start_time": "2020-06-23T09:08:03.047563Z"
    }
   },
   "outputs": [
    {
     "data": {
      "image/png": "[encoded data removed]",
      "text/plain": [
       "<Figure size 432x288 with 1 Axes>"
      ]
     },
     "metadata": {},
     "output_type": "display_data"
    },
    {
     "name": "stdout",
     "output_type": "stream",
     "text": [
      "Accuracy Score: 0.8744500153484088\n",
      "AUC Score: 0.892211330150897\n"
     ]
    }
   ],
   "source": [
    "# Plot the ROC curve of the probabilities of default\n",
    "rf_prob_default = rf_preds[:,1]\n",
    "fallout, sensitivity, thresholds = roc_curve(y_test, rf_prob_default)\n",
    "plt.plot(fallout, sensitivity, color = 'darkorange')\n",
    "plt.plot([0, 1], [0, 1], linestyle='--')\n",
    "plt.show()\n",
    "\n",
    "# Print the accuracy score the model\n",
    "rf_acc_score = rf.score(X_test, y_test)\n",
    "print('Accuracy Score: ' + str(rf_acc_score))\n",
    "\n",
    "# Compute the AUC and store it in a variable\n",
    "rf_auc_score = roc_auc_score(y_test, rf_prob_default)\n",
    "print('AUC Score: ' + str(rf_auc_score))"
   ]
  },
  {
   "cell_type": "markdown",
   "metadata": {},
   "source": [
    "**XGBOOST**"
   ]
  },
  {
   "cell_type": "code",
   "execution_count": 55,
   "metadata": {
    "ExecuteTime": {
     "end_time": "2020-06-23T09:08:04.701142Z",
     "start_time": "2020-06-23T09:08:03.575152Z"
    }
   },
   "outputs": [
    {
     "name": "stdout",
     "output_type": "stream",
     "text": [
      "   loan_status  prob_default\n",
      "0            0      0.375797\n",
      "1            0      0.016076\n",
      "2            0      0.084966\n",
      "3            0      0.092744\n",
      "4            0      0.024453\n",
      "5            0      0.121078\n",
      "6            0      0.042531\n",
      "7            0      0.228830\n",
      "8            0      0.004935\n",
      "9            1      0.616500\n"
     ]
    }
   ],
   "source": [
    "# Create a new XGBoost\n",
    "gbt = xgb.XGBClassifier().fit(X_train, y_train)\n",
    "\n",
    "# Predict with a model\n",
    "gbt_preds = gbt.predict_proba(X_test)\n",
    "\n",
    "# Create dataframes of first ten predictions, and first ten true labels\n",
    "gbt_preds_df = pd.DataFrame(gbt_preds[:,1][0:10], columns = ['prob_default'])\n",
    "gbt_true_df = y_test.head(10)\n",
    "\n",
    "# Concatenate and print the two data frames for comparison\n",
    "print(pd.concat([gbt_true_df.reset_index(drop = True), gbt_preds_df], axis = 1))"
   ]
  },
  {
   "cell_type": "code",
   "execution_count": 56,
   "metadata": {
    "ExecuteTime": {
     "end_time": "2020-06-23T09:08:04.787910Z",
     "start_time": "2020-06-23T09:08:04.704135Z"
    }
   },
   "outputs": [
    {
     "name": "stdout",
     "output_type": "stream",
     "text": [
      "{'loan_percent_income': 529, 'loan_int_rate': 880, 'person_income': 1230, 'person_emp_length': 499, 'loan_amnt': 443}\n"
     ]
    }
   ],
   "source": [
    "# Print the column importances from the model\n",
    "print(gbt.get_booster().get_score(importance_type = 'weight'))"
   ]
  },
  {
   "cell_type": "code",
   "execution_count": 57,
   "metadata": {
    "ExecuteTime": {
     "end_time": "2020-06-23T09:08:05.138973Z",
     "start_time": "2020-06-23T09:08:04.790902Z"
    }
   },
   "outputs": [
    {
     "data": {
      "image/png": "[encoded data removed]",
      "text/plain": [
       "<Figure size 432x288 with 1 Axes>"
      ]
     },
     "metadata": {},
     "output_type": "display_data"
    }
   ],
   "source": [
    "xgb.plot_importance(gbt, importance_type = 'weight')\n",
    "plt.show()"
   ]
  },
  {
   "cell_type": "markdown",
   "metadata": {},
   "source": [
    "* **Treshold = 0.5**"
   ]
  },
  {
   "cell_type": "code",
   "execution_count": 58,
   "metadata": {
    "ExecuteTime": {
     "end_time": "2020-06-23T09:08:05.408251Z",
     "start_time": "2020-06-23T09:08:05.141962Z"
    }
   },
   "outputs": [
    {
     "name": "stdout",
     "output_type": "stream",
     "text": [
      "\n",
      "\u001b[1m------------------ Classification Report -------------------\u001b[0m\n",
      "\n",
      "              precision    recall  f1-score   support\n",
      "\n",
      " Non-Default       0.90      0.94      0.92      7619\n",
      "     Default       0.75      0.64      0.69      2154\n",
      "\n",
      "    accuracy                           0.87      9773\n",
      "   macro avg       0.83      0.79      0.81      9773\n",
      "weighted avg       0.87      0.87      0.87      9773\n",
      "\n",
      "\n",
      "\u001b[1m--------------------- Confusion Matrix ---------------------\u001b[0m\n",
      "\n"
     ]
    },
    {
     "data": {
      "text/plain": [
       "<matplotlib.axes._subplots.AxesSubplot at 0x277896efdc8>"
      ]
     },
     "execution_count": 58,
     "metadata": {},
     "output_type": "execute_result"
    },
    {
     "data": {
      "image/png": "[encoded data removed]",
      "text/plain": [
       "<Figure size 432x288 with 2 Axes>"
      ]
     },
     "metadata": {},
     "output_type": "display_data"
    }
   ],
   "source": [
    "# Create a dataframe for the probabilities of default\n",
    "gbt_preds_df = pd.DataFrame(gbt_preds[:,1], columns = ['prob_default'])\n",
    "\n",
    "# Reassign loan status based on the threshold\n",
    "gbt_preds_df['loan_status'] = gbt_preds_df['prob_default'].apply(lambda x: 1 if x > 0.5 else 0)\n",
    "\n",
    "# Print the classification report\n",
    "target_names = ['Non-Default', 'Default']\n",
    "print('\\n' + '\\033[1m' + ' Classification Report '.center(60,'-') + '\\033[0m' + '\\n')\n",
    "print(classification_report(y_test, gbt_preds_df['loan_status'], target_names=target_names))\n",
    "\n",
    "# Print the confusion matrix\n",
    "print('\\n' + '\\033[1m' + ' Confusion Matrix '.center(60,'-') + '\\033[0m' + '\\n')\n",
    "sns.heatmap(confusion_matrix(y_test, gbt_preds_df['loan_status']), cmap='coolwarm', fmt='.4g', annot=True)"
   ]
  },
  {
   "cell_type": "markdown",
   "metadata": {},
   "source": [
    "* **Treshold = 0.4**"
   ]
  },
  {
   "cell_type": "code",
   "execution_count": 59,
   "metadata": {
    "ExecuteTime": {
     "end_time": "2020-06-23T09:08:05.686507Z",
     "start_time": "2020-06-23T09:08:05.411244Z"
    }
   },
   "outputs": [
    {
     "name": "stdout",
     "output_type": "stream",
     "text": [
      "\n",
      "\u001b[1m------------------ Classification Report -------------------\u001b[0m\n",
      "\n",
      "              precision    recall  f1-score   support\n",
      "\n",
      " Non-Default       0.92      0.92      0.92      7619\n",
      "     Default       0.72      0.70      0.71      2154\n",
      "\n",
      "    accuracy                           0.87      9773\n",
      "   macro avg       0.82      0.81      0.81      9773\n",
      "weighted avg       0.87      0.87      0.87      9773\n",
      "\n",
      "\n",
      "\u001b[1m--------------------- Confusion Matrix ---------------------\u001b[0m\n",
      "\n"
     ]
    },
    {
     "data": {
      "text/plain": [
       "<matplotlib.axes._subplots.AxesSubplot at 0x27789699708>"
      ]
     },
     "execution_count": 59,
     "metadata": {},
     "output_type": "execute_result"
    },
    {
     "data": {
      "image/png": "[encoded data removed]",
      "text/plain": [
       "<Figure size 432x288 with 2 Axes>"
      ]
     },
     "metadata": {},
     "output_type": "display_data"
    }
   ],
   "source": [
    "# Create a dataframe for the probabilities of default\n",
    "gbt_preds_df = pd.DataFrame(gbt_preds[:,1], columns = ['prob_default'])\n",
    "\n",
    "# Reassign loan status based on the threshold\n",
    "gbt_preds_df['loan_status'] = gbt_preds_df['prob_default'].apply(lambda x: 1 if x > 0.4 else 0)\n",
    "\n",
    "# Print the classification report\n",
    "target_names = ['Non-Default', 'Default']\n",
    "print('\\n' + '\\033[1m' + ' Classification Report '.center(60,'-') + '\\033[0m' + '\\n')\n",
    "print(classification_report(y_test, gbt_preds_df['loan_status'], target_names=target_names))\n",
    "\n",
    "# Print the confusion matrix\n",
    "print('\\n' + '\\033[1m' + ' Confusion Matrix '.center(60,'-') + '\\033[0m' + '\\n')\n",
    "sns.heatmap(confusion_matrix(y_test, gbt_preds_df['loan_status']), cmap='coolwarm', fmt='.4g', annot=True)"
   ]
  },
  {
   "cell_type": "code",
   "execution_count": 60,
   "metadata": {
    "ExecuteTime": {
     "end_time": "2020-06-23T09:08:05.999671Z",
     "start_time": "2020-06-23T09:08:05.689500Z"
    }
   },
   "outputs": [
    {
     "data": {
      "image/png": "[encoded data removed]",
      "text/plain": [
       "<Figure size 432x288 with 1 Axes>"
      ]
     },
     "metadata": {},
     "output_type": "display_data"
    },
    {
     "name": "stdout",
     "output_type": "stream",
     "text": [
      "Accuracy Score: 0.8745523380742863\n",
      "AUC Score: 0.9013788404422652\n"
     ]
    }
   ],
   "source": [
    "# Plot the ROC curve of the probabilities of default\n",
    "gbt_prob_default = gbt_preds[:,1]\n",
    "fallout, sensitivity, thresholds = roc_curve(y_test, gbt_prob_default)\n",
    "plt.plot(fallout, sensitivity, color = 'darkorange')\n",
    "plt.plot([0, 1], [0, 1], linestyle='--')\n",
    "plt.show()\n",
    "\n",
    "# Print the accuracy score the model\n",
    "gbt_acc_score = gbt.score(X_test, y_test)\n",
    "print('Accuracy Score: ' + str(gbt_acc_score))\n",
    "\n",
    "# Compute the AUC and store it in a variable\n",
    "gbt_auc_score = roc_auc_score(y_test, gbt_prob_default)\n",
    "print('AUC Score: ' + str(gbt_auc_score))"
   ]
  },
  {
   "cell_type": "markdown",
   "metadata": {
    "ExecuteTime": {
     "end_time": "2020-06-16T15:14:34.382695Z",
     "start_time": "2020-06-16T15:14:34.373882Z"
    }
   },
   "source": [
    "**C. Score Comparison**"
   ]
  },
  {
   "cell_type": "code",
   "execution_count": 61,
   "metadata": {
    "ExecuteTime": {
     "end_time": "2020-06-23T09:08:06.028592Z",
     "start_time": "2020-06-23T09:08:06.002662Z"
    }
   },
   "outputs": [
    {
     "data": {
      "text/html": [
       "<div>\n",
       "<style scoped>\n",
       "    .dataframe tbody tr th:only-of-type {\n",
       "        vertical-align: middle;\n",
       "    }\n",
       "\n",
       "    .dataframe tbody tr th {\n",
       "        vertical-align: top;\n",
       "    }\n",
       "\n",
       "    .dataframe thead th {\n",
       "        text-align: right;\n",
       "    }\n",
       "</style>\n",
       "<table border=\"1\" class=\"dataframe\">\n",
       "  <thead>\n",
       "    <tr style=\"text-align: right;\">\n",
       "      <th></th>\n",
       "      <th>lr_acc_score</th>\n",
       "      <th>gbt_acc_score</th>\n",
       "      <th>rf_acc_score</th>\n",
       "      <th>lr_auc_score</th>\n",
       "      <th>gbt_auc_score</th>\n",
       "      <th>rf_auc_score</th>\n",
       "    </tr>\n",
       "  </thead>\n",
       "  <tbody>\n",
       "    <tr>\n",
       "      <td>0</td>\n",
       "      <td>0.802108</td>\n",
       "      <td>0.874552</td>\n",
       "      <td>0.87445</td>\n",
       "      <td>0.756395</td>\n",
       "      <td>0.901379</td>\n",
       "      <td>0.892211</td>\n",
       "    </tr>\n",
       "  </tbody>\n",
       "</table>\n",
       "</div>"
      ],
      "text/plain": [
       "   lr_acc_score  gbt_acc_score  rf_acc_score  lr_auc_score  gbt_auc_score  \\\n",
       "0      0.802108       0.874552       0.87445      0.756395       0.901379   \n",
       "\n",
       "   rf_auc_score  \n",
       "0      0.892211  "
      ]
     },
     "execution_count": 61,
     "metadata": {},
     "output_type": "execute_result"
    }
   ],
   "source": [
    "compare2 = pd.DataFrame([lr_acc_score, gbt_acc_score, rf_acc_score, lr_auc_score, gbt_auc_score, rf_auc_score]).transpose()\n",
    "compare2.rename(columns={0 : 'lr_acc_score', 1 : 'gbt_acc_score', 2: 'rf_acc_score', \n",
    "                         3 :'lr_auc_score', 4 :'gbt_auc_score', 5 :'rf_auc_score'})"
   ]
  },
  {
   "cell_type": "markdown",
   "metadata": {},
   "source": [
    "**2. Cross Validation**\n",
    "<a id=\"cross_validation\" > </a>"
   ]
  },
  {
   "cell_type": "markdown",
   "metadata": {},
   "source": [
    "**A. Logisitic Regression - Cross Validation**"
   ]
  },
  {
   "cell_type": "code",
   "execution_count": 62,
   "metadata": {
    "ExecuteTime": {
     "end_time": "2020-06-23T09:08:06.568150Z",
     "start_time": "2020-06-23T09:08:06.031585Z"
    }
   },
   "outputs": [
    {
     "name": "stdout",
     "output_type": "stream",
     "text": [
      "Cross-Validation Accuracy Scores [0.81323981 0.80657895 0.79780702 0.80701754 0.80614035 0.83947368\n",
      " 0.80482456 0.80833333 0.80482456 0.81008772]\n"
     ]
    }
   ],
   "source": [
    "# Evaluate using Cross Validation\n",
    "num_folds = 10\n",
    "seed = 101\n",
    "kfold = KFold(n_splits=num_folds, random_state=seed)\n",
    "scores = cross_val_score(log_reg, X_train, y_train, cv=kfold)\n",
    "print('Cross-Validation Accuracy Scores', scores)"
   ]
  },
  {
   "cell_type": "code",
   "execution_count": 63,
   "metadata": {
    "ExecuteTime": {
     "end_time": "2020-06-23T09:08:06.579122Z",
     "start_time": "2020-06-23T09:08:06.570146Z"
    }
   },
   "outputs": [
    {
     "data": {
      "text/plain": [
       "(0.7978070175438596, 0.8098327526400393, 0.8394736842105263)"
      ]
     },
     "execution_count": 63,
     "metadata": {},
     "output_type": "execute_result"
    }
   ],
   "source": [
    "scores = pd.Series(scores)\n",
    "scores.min(), scores.mean(), scores.max()"
   ]
  },
  {
   "cell_type": "markdown",
   "metadata": {},
   "source": [
    "**B. Random Forest - Cross Validation**"
   ]
  },
  {
   "cell_type": "code",
   "execution_count": 64,
   "metadata": {
    "ExecuteTime": {
     "end_time": "2020-06-23T09:08:31.345318Z",
     "start_time": "2020-06-23T09:08:06.582113Z"
    }
   },
   "outputs": [
    {
     "name": "stdout",
     "output_type": "stream",
     "text": [
      "Cross-Validation Accuracy Scores [0.86277948 0.88508772 0.86710526 0.86929825 0.87236842 0.8872807\n",
      " 0.87236842 0.87894737 0.87763158 0.88201754]\n"
     ]
    }
   ],
   "source": [
    "# Evaluate using Cross Validation\n",
    "num_folds = 10\n",
    "seed = 7\n",
    "kfold = KFold(n_splits=num_folds, random_state=seed)\n",
    "scores = cross_val_score(rf, X_train, y_train, cv=kfold)\n",
    "print('Cross-Validation Accuracy Scores', scores)"
   ]
  },
  {
   "cell_type": "code",
   "execution_count": 65,
   "metadata": {
    "ExecuteTime": {
     "end_time": "2020-06-23T09:08:31.357287Z",
     "start_time": "2020-06-23T09:08:31.348311Z"
    }
   },
   "outputs": [
    {
     "data": {
      "text/plain": [
       "(0.8627794826830337, 0.875488474584093, 0.887280701754386)"
      ]
     },
     "execution_count": 65,
     "metadata": {},
     "output_type": "execute_result"
    }
   ],
   "source": [
    "scores = pd.Series(scores)\n",
    "scores.min(), scores.mean(), scores.max()"
   ]
  },
  {
   "cell_type": "markdown",
   "metadata": {},
   "source": [
    "**C. XGBoost - Cross Validation**"
   ]
  },
  {
   "cell_type": "code",
   "execution_count": 66,
   "metadata": {
    "ExecuteTime": {
     "end_time": "2020-06-23T09:08:36.068145Z",
     "start_time": "2020-06-23T09:08:31.361275Z"
    }
   },
   "outputs": [
    {
     "name": "stdout",
     "output_type": "stream",
     "text": [
      "   train-auc-mean  train-auc-std  test-auc-mean  test-auc-std\n",
      "0        0.880458       0.001840       0.873056      0.006843\n",
      "1        0.888024       0.002274       0.880204      0.006839\n",
      "2        0.890962       0.002305       0.883168      0.007267\n",
      "3        0.892705       0.001893       0.884017      0.007879\n",
      "4        0.895325       0.002007       0.886104      0.007219\n",
      "5        0.897359       0.002219       0.886909      0.007133\n",
      "6        0.899890       0.002009       0.888087      0.006675\n",
      "7        0.903071       0.002913       0.889345      0.006059\n",
      "8        0.905549       0.002254       0.890574      0.006469\n",
      "9        0.907999       0.002149       0.891853      0.006219\n"
     ]
    }
   ],
   "source": [
    "# Set parameter\n",
    "params = {'objective': 'binary:logistic', 'seed': 123, 'eval_metric': 'auc'}\n",
    "\n",
    "# Set the values for number of folds and stopping iterations\n",
    "n_folds = 5\n",
    "early_stopping = 10\n",
    "\n",
    "# Create the DTrain matrix for XGBoost\n",
    "DTrain = xgb.DMatrix(X_train, label = y_train)\n",
    "\n",
    "# Create the data frame of cross validations\n",
    "cv_df = xgb.cv(params, DTrain, num_boost_round = 100, nfold=n_folds,\n",
    "            early_stopping_rounds=early_stopping)\n",
    "\n",
    "# Print the cross validations data frame\n",
    "print(cv_df[:10])"
   ]
  },
  {
   "cell_type": "code",
   "execution_count": 67,
   "metadata": {
    "ExecuteTime": {
     "end_time": "2020-06-23T09:08:36.392280Z",
     "start_time": "2020-06-23T09:08:36.071136Z"
    },
    "scrolled": true
   },
   "outputs": [
    {
     "data": {
      "image/png": "[encoded data removed]",
      "text/plain": [
       "<Figure size 432x288 with 1 Axes>"
      ]
     },
     "metadata": {},
     "output_type": "display_data"
    }
   ],
   "source": [
    "# Plot the test AUC scores for each iteration\n",
    "plt.plot(cv_df['test-auc-mean'])\n",
    "plt.title('Test AUC Score 100 Iterations')\n",
    "plt.xlabel('Iteration Number')\n",
    "plt.ylabel('Test AUC Score')\n",
    "plt.show()"
   ]
  },
  {
   "cell_type": "markdown",
   "metadata": {},
   "source": [
    "**Kesimpulan:**\n",
    "\n",
    "**train-auc-mean** dan **test-auc-mean** meningkat pada setiap iterasi cross-validation. "
   ]
  },
  {
   "cell_type": "markdown",
   "metadata": {},
   "source": [
    "**3. Hyper-Parameter Tuning**\n",
    "<a id=\"hyper_parameter_tuning\" > </a>"
   ]
  },
  {
   "cell_type": "markdown",
   "metadata": {},
   "source": [
    "**A. Logistic Regression - Hyper-Parameter Tuning**"
   ]
  },
  {
   "cell_type": "code",
   "execution_count": 68,
   "metadata": {
    "ExecuteTime": {
     "end_time": "2020-06-23T09:08:36.420203Z",
     "start_time": "2020-06-23T09:08:36.411229Z"
    }
   },
   "outputs": [
    {
     "data": {
      "text/plain": [
       "{'penalty': ['l1', 'l2', 'elasticnet', 'none'],\n",
       " 'solver': ['newton-cg', 'lbfgs', 'liblinear', 'sag', 'saga'],\n",
       " 'max_iter': [1, 10, 100, 1000, 10000]}"
      ]
     },
     "execution_count": 68,
     "metadata": {},
     "output_type": "execute_result"
    }
   ],
   "source": [
    "penalty = ['l1', 'l2', 'elasticnet', 'none']\n",
    "solver = ['newton-cg', 'lbfgs', 'liblinear', 'sag', 'saga']\n",
    "max_iter = [1, 10, 100, 1000, 10000]\n",
    "\n",
    "params = {'penalty': penalty, 'solver': solver, 'max_iter': max_iter}\n",
    "params"
   ]
  },
  {
   "cell_type": "code",
   "execution_count": 69,
   "metadata": {
    "ExecuteTime": {
     "end_time": "2020-06-23T09:09:57.302590Z",
     "start_time": "2020-06-23T09:08:36.428181Z"
    }
   },
   "outputs": [
    {
     "data": {
      "text/plain": [
       "GridSearchCV(cv=5, error_score=nan,\n",
       "             estimator=LogisticRegression(C=1.0, class_weight=None, dual=False,\n",
       "                                          fit_intercept=True,\n",
       "                                          intercept_scaling=1, l1_ratio=None,\n",
       "                                          max_iter=100, multi_class='auto',\n",
       "                                          n_jobs=None, penalty='l2',\n",
       "                                          random_state=None, solver='lbfgs',\n",
       "                                          tol=0.0001, verbose=0,\n",
       "                                          warm_start=False),\n",
       "             iid='deprecated', n_jobs=None,\n",
       "             param_grid={'max_iter': [1, 10, 100, 1000, 10000],\n",
       "                         'penalty': ['l1', 'l2', 'elasticnet', 'none'],\n",
       "                         'solver': ['newton-cg', 'lbfgs', 'liblinear', 'sag',\n",
       "                                    'saga']},\n",
       "             pre_dispatch='2*n_jobs', refit=True, return_train_score=False,\n",
       "             scoring=None, verbose=0)"
      ]
     },
     "execution_count": 69,
     "metadata": {},
     "output_type": "execute_result"
    }
   ],
   "source": [
    "model_lr = LogisticRegression()\n",
    "model_lr_gs = GridSearchCV(model_lr, params, cv = 5)\n",
    "model_lr_gs.fit(X_train, y_train)"
   ]
  },
  {
   "cell_type": "code",
   "execution_count": 70,
   "metadata": {
    "ExecuteTime": {
     "end_time": "2020-06-23T09:09:57.314169Z",
     "start_time": "2020-06-23T09:09:57.305664Z"
    }
   },
   "outputs": [
    {
     "data": {
      "text/plain": [
       "{'max_iter': 100, 'penalty': 'l2', 'solver': 'newton-cg'}"
      ]
     },
     "execution_count": 70,
     "metadata": {},
     "output_type": "execute_result"
    }
   ],
   "source": [
    "model_lr_gs.best_params_"
   ]
  },
  {
   "cell_type": "code",
   "execution_count": 71,
   "metadata": {
    "ExecuteTime": {
     "end_time": "2020-06-23T09:09:59.933182Z",
     "start_time": "2020-06-23T09:09:57.317162Z"
    }
   },
   "outputs": [
    {
     "name": "stdout",
     "output_type": "stream",
     "text": [
      "[-6.03653221]\n",
      "[[ 1.09052214e+01 -1.85325864e-06  3.10069397e-01 -7.79555323e-05\n",
      "  -2.50145290e-02]]\n"
     ]
    }
   ],
   "source": [
    "# Create and train a new logistic regression\n",
    "log_reg_hyper = LogisticRegression(max_iter=1000, penalty='l2', solver='newton-cg').fit(X_train, y_train)\n",
    "\n",
    "# Print the intercept of the model\n",
    "print(log_reg_hyper.intercept_)\n",
    "\n",
    "# Print the coeficient of the model\n",
    "print(log_reg_hyper.coef_)"
   ]
  },
  {
   "cell_type": "code",
   "execution_count": 72,
   "metadata": {
    "ExecuteTime": {
     "end_time": "2020-06-23T09:09:59.953113Z",
     "start_time": "2020-06-23T09:09:59.936160Z"
    }
   },
   "outputs": [
    {
     "name": "stdout",
     "output_type": "stream",
     "text": [
      "   loan_status  prob_default\n",
      "0            0      0.275231\n",
      "1            0      0.060116\n",
      "2            0      0.183292\n",
      "3            0      0.272013\n",
      "4            0      0.052242\n",
      "5            0      0.608369\n",
      "6            0      0.088503\n",
      "7            0      0.115451\n",
      "8            0      0.032812\n",
      "9            1      0.567121\n"
     ]
    }
   ],
   "source": [
    "# Create predictions of probability for loan status using test data\n",
    "lr_preds_hyper = log_reg_hyper.predict_proba(X_test)\n",
    "\n",
    "# Create dataframes of first ten predictions, and first ten true labels\n",
    "lr_preds_df_hyper = pd.DataFrame(lr_preds_hyper[:,1][:10], columns = ['prob_default'])\n",
    "lr_true_df_hyper = y_test.head(10)\n",
    "\n",
    "# Concatenate and print the two data frames for comparison\n",
    "print(pd.concat([lr_true_df_hyper.reset_index(drop = True), lr_preds_df_hyper], axis = 1))"
   ]
  },
  {
   "cell_type": "code",
   "execution_count": 73,
   "metadata": {
    "ExecuteTime": {
     "end_time": "2020-06-23T09:10:00.252317Z",
     "start_time": "2020-06-23T09:09:59.956106Z"
    }
   },
   "outputs": [
    {
     "name": "stdout",
     "output_type": "stream",
     "text": [
      "\n",
      "\u001b[1m------------------ Classification Report -------------------\u001b[0m\n",
      "\n",
      "              precision    recall  f1-score   support\n",
      "\n",
      " Non-Default       0.87      0.91      0.89      7619\n",
      "     Default       0.62      0.52      0.57      2154\n",
      "\n",
      "    accuracy                           0.82      9773\n",
      "   macro avg       0.74      0.72      0.73      9773\n",
      "weighted avg       0.81      0.82      0.82      9773\n",
      "\n",
      "\n",
      "\u001b[1m--------------------- Confusion Matrix ---------------------\u001b[0m\n",
      "\n"
     ]
    },
    {
     "data": {
      "text/plain": [
       "<matplotlib.axes._subplots.AxesSubplot at 0x2778c9e7f48>"
      ]
     },
     "execution_count": 73,
     "metadata": {},
     "output_type": "execute_result"
    },
    {
     "data": {
      "image/png": "[encoded data removed]",
      "text/plain": [
       "<Figure size 432x288 with 2 Axes>"
      ]
     },
     "metadata": {},
     "output_type": "display_data"
    }
   ],
   "source": [
    "# Create a dataframe for the probabilities of default\n",
    "lr_preds_df_hyper = pd.DataFrame(lr_preds_hyper[:,1], columns = ['prob_default'])\n",
    "\n",
    "# Reassign loan status based on the threshold\n",
    "lr_preds_df_hyper['loan_status'] = lr_preds_df_hyper['prob_default'].apply(lambda x: 1 if x > 0.4 else 0)\n",
    "\n",
    "# Print the classification report\n",
    "target_names = ['Non-Default', 'Default']\n",
    "print('\\n' + '\\033[1m' + ' Classification Report '.center(60,'-') + '\\033[0m' + '\\n')\n",
    "print(classification_report(y_test, lr_preds_df_hyper['loan_status'], target_names=target_names))\n",
    "\n",
    "# Print the confusion matrix\n",
    "print('\\n' + '\\033[1m' + ' Confusion Matrix '.center(60,'-') + '\\033[0m' + '\\n')\n",
    "sns.heatmap(confusion_matrix(y_test, lr_preds_df_hyper['loan_status']), cmap='coolwarm', fmt='.4g', annot=True)"
   ]
  },
  {
   "cell_type": "code",
   "execution_count": 74,
   "metadata": {
    "ExecuteTime": {
     "end_time": "2020-06-23T09:10:00.580436Z",
     "start_time": "2020-06-23T09:10:00.255306Z"
    }
   },
   "outputs": [
    {
     "data": {
      "image/png": "[encoded data removed]",
      "text/plain": [
       "<Figure size 432x288 with 1 Axes>"
      ]
     },
     "metadata": {},
     "output_type": "display_data"
    },
    {
     "name": "stdout",
     "output_type": "stream",
     "text": [
      "Accuracy Score: 0.8745523380742863\n",
      "AUC Score: 0.8267643028966702\n"
     ]
    }
   ],
   "source": [
    "# Plot the ROC curve of the probabilities of default\n",
    "lr_prob_default_hyper = lr_preds_hyper[:,1]\n",
    "fallout, sensitivity, thresholds = roc_curve(y_test, lr_prob_default_hyper)\n",
    "plt.plot(fallout, sensitivity, color = 'darkorange')\n",
    "plt.plot([0, 1], [0, 1], linestyle='--')\n",
    "plt.show()\n",
    "\n",
    "# Print the accuracy score the model\n",
    "lr_acc_score_hyper = gbt.score(X_test, y_test)\n",
    "print('Accuracy Score: ' + str(lr_acc_score_hyper))\n",
    "\n",
    "# Compute the AUC and store it in a variable\n",
    "lr_auc_score_hyper = roc_auc_score(y_test, lr_prob_default_hyper)\n",
    "print('AUC Score: ' + str(lr_auc_score_hyper))"
   ]
  },
  {
   "cell_type": "markdown",
   "metadata": {},
   "source": [
    "**Kesimpulan:**\n",
    "\n",
    "Ada peningkatan performa model machine learning setelah hyper-parameter tuning"
   ]
  },
  {
   "cell_type": "markdown",
   "metadata": {},
   "source": [
    "**B. Random Forest - Hyper-Parameter Tuning**"
   ]
  },
  {
   "cell_type": "code",
   "execution_count": 75,
   "metadata": {
    "ExecuteTime": {
     "end_time": "2020-06-23T09:10:00.590410Z",
     "start_time": "2020-06-23T09:10:00.583430Z"
    }
   },
   "outputs": [],
   "source": [
    "param_grid = [{'n_estimators': [10, 20, 30, 40, 50], 'max_features': [5, 10], \n",
    "               'max_depth': [10, 20, 30, 40, 50],'bootstrap': [True, False]}]"
   ]
  },
  {
   "cell_type": "code",
   "execution_count": 76,
   "metadata": {
    "ExecuteTime": {
     "end_time": "2020-06-23T09:16:44.546786Z",
     "start_time": "2020-06-23T09:10:00.593402Z"
    }
   },
   "outputs": [
    {
     "data": {
      "text/plain": [
       "GridSearchCV(cv=5, error_score=nan,\n",
       "             estimator=RandomForestClassifier(bootstrap=True, ccp_alpha=0.0,\n",
       "                                              class_weight=None,\n",
       "                                              criterion='gini', max_depth=None,\n",
       "                                              max_features='auto',\n",
       "                                              max_leaf_nodes=None,\n",
       "                                              max_samples=None,\n",
       "                                              min_impurity_decrease=0.0,\n",
       "                                              min_impurity_split=None,\n",
       "                                              min_samples_leaf=1,\n",
       "                                              min_samples_split=2,\n",
       "                                              min_weight_fraction_leaf=0.0,\n",
       "                                              n_estimators=100, n_jobs=None,\n",
       "                                              oob_score=False,\n",
       "                                              random_state=None, verbose=0,\n",
       "                                              warm_start=False),\n",
       "             iid='deprecated', n_jobs=None,\n",
       "             param_grid=[{'bootstrap': [True, False],\n",
       "                          'max_depth': [10, 20, 30, 40, 50],\n",
       "                          'max_features': [5, 10],\n",
       "                          'n_estimators': [10, 20, 30, 40, 50]}],\n",
       "             pre_dispatch='2*n_jobs', refit=True, return_train_score=False,\n",
       "             scoring=None, verbose=0)"
      ]
     },
     "execution_count": 76,
     "metadata": {},
     "output_type": "execute_result"
    }
   ],
   "source": [
    "model_rf = RandomForestClassifier()\n",
    "model_rf_gs = GridSearchCV(model_rf, param_grid, cv = 5)\n",
    "model_rf_gs.fit(X_train, y_train)"
   ]
  },
  {
   "cell_type": "code",
   "execution_count": 77,
   "metadata": {
    "ExecuteTime": {
     "end_time": "2020-06-23T09:16:44.557749Z",
     "start_time": "2020-06-23T09:16:44.549774Z"
    }
   },
   "outputs": [
    {
     "data": {
      "text/plain": [
       "{'bootstrap': True, 'max_depth': 30, 'max_features': 5, 'n_estimators': 40}"
      ]
     },
     "execution_count": 77,
     "metadata": {},
     "output_type": "execute_result"
    }
   ],
   "source": [
    "model_rf_gs.best_params_"
   ]
  },
  {
   "cell_type": "code",
   "execution_count": 78,
   "metadata": {
    "ExecuteTime": {
     "end_time": "2020-06-23T09:16:46.110225Z",
     "start_time": "2020-06-23T09:16:44.560741Z"
    }
   },
   "outputs": [
    {
     "name": "stdout",
     "output_type": "stream",
     "text": [
      "   loan_status  prob_default\n",
      "0            0          0.40\n",
      "1            0          0.00\n",
      "2            0          0.16\n",
      "3            0          0.32\n",
      "4            0          0.04\n",
      "5            0          0.28\n",
      "6            0          0.00\n",
      "7            0          0.24\n",
      "8            0          0.00\n",
      "9            1          0.44\n"
     ]
    }
   ],
   "source": [
    "# Create and train a new XGBoost\n",
    "rf_hyper = RandomForestClassifier(bootstrap=True, max_depth=None, max_features=5, n_estimators=25).fit(X_train, y_train)\n",
    "\n",
    "# Create predictions of probability for loan status using test data\n",
    "rf_preds_hyper = rf_hyper.predict_proba(X_test)\n",
    "\n",
    "# Create dataframes of first ten predictions, and first ten true labels\n",
    "rf_preds_df_hyper = pd.DataFrame(rf_preds_hyper[:,1][:10], columns = ['prob_default'])\n",
    "rf_true_df_hyper = y_test.head(10)\n",
    "\n",
    "# Concatenate and print the two data frames for comparison\n",
    "print(pd.concat([rf_true_df_hyper.reset_index(drop = True), rf_preds_df_hyper], axis = 1))"
   ]
  },
  {
   "cell_type": "code",
   "execution_count": 79,
   "metadata": {
    "ExecuteTime": {
     "end_time": "2020-06-23T09:16:46.384492Z",
     "start_time": "2020-06-23T09:16:46.113216Z"
    }
   },
   "outputs": [
    {
     "name": "stdout",
     "output_type": "stream",
     "text": [
      "\n",
      "\u001b[1m------------------ Classification Report -------------------\u001b[0m\n",
      "\n",
      "              precision    recall  f1-score   support\n",
      "\n",
      " Non-Default       0.91      0.92      0.92      7619\n",
      "     Default       0.70      0.70      0.70      2154\n",
      "\n",
      "    accuracy                           0.87      9773\n",
      "   macro avg       0.81      0.81      0.81      9773\n",
      "weighted avg       0.87      0.87      0.87      9773\n",
      "\n",
      "\n",
      "\u001b[1m--------------------- Confusion Matrix ---------------------\u001b[0m\n",
      "\n"
     ]
    },
    {
     "data": {
      "text/plain": [
       "<matplotlib.axes._subplots.AxesSubplot at 0x2778cac7988>"
      ]
     },
     "execution_count": 79,
     "metadata": {},
     "output_type": "execute_result"
    },
    {
     "data": {
      "image/png": "[encoded data removed]",
      "text/plain": [
       "<Figure size 432x288 with 2 Axes>"
      ]
     },
     "metadata": {},
     "output_type": "display_data"
    }
   ],
   "source": [
    "# Create a dataframe for the probabilities of default\n",
    "rf_preds_df_hyper = pd.DataFrame(rf_preds_hyper[:,1], columns = ['prob_default'])\n",
    "\n",
    "# Reassign loan status based on the threshold\n",
    "rf_preds_df_hyper['loan_status'] = rf_preds_df_hyper['prob_default'].apply(lambda x: 1 if x > 0.4 else 0)\n",
    "\n",
    "# Print the classification report\n",
    "target_names = ['Non-Default', 'Default']\n",
    "print('\\n' + '\\033[1m' + ' Classification Report '.center(60,'-') + '\\033[0m' + '\\n')\n",
    "print(classification_report(y_test, rf_preds_df_hyper['loan_status'], target_names=target_names))\n",
    "\n",
    "# Print the confusion matrix\n",
    "print('\\n' + '\\033[1m' + ' Confusion Matrix '.center(60,'-') + '\\033[0m' + '\\n')\n",
    "sns.heatmap(confusion_matrix(y_test, lr_preds_df_hyper['loan_status']), cmap='coolwarm', fmt='.4g', annot=True)"
   ]
  },
  {
   "cell_type": "code",
   "execution_count": 80,
   "metadata": {
    "ExecuteTime": {
     "end_time": "2020-06-23T09:16:46.956519Z",
     "start_time": "2020-06-23T09:16:46.387483Z"
    }
   },
   "outputs": [
    {
     "data": {
      "image/png": "[encoded data removed]",
      "text/plain": [
       "<Figure size 432x288 with 1 Axes>"
      ]
     },
     "metadata": {},
     "output_type": "display_data"
    },
    {
     "name": "stdout",
     "output_type": "stream",
     "text": [
      "Accuracy Score: 0.8744500153484088\n",
      "AUC Score: 0.8865071597505283\n"
     ]
    }
   ],
   "source": [
    "# Plot the ROC curve of the probabilities of default\n",
    "rf_prob_default_hyper = rf_preds_hyper[:,1]\n",
    "fallout, sensitivity, thresholds = roc_curve(y_test, rf_prob_default_hyper)\n",
    "plt.plot(fallout, sensitivity, color = 'darkorange')\n",
    "plt.plot([0, 1], [0, 1], linestyle='--')\n",
    "plt.show()\n",
    "\n",
    "# Print the accuracy score the model\n",
    "rf_acc_score_hyper = rf.score(X_test, y_test)\n",
    "print('Accuracy Score: ' + str(rf_acc_score_hyper))\n",
    "\n",
    "# Compute the AUC and store it in a variable\n",
    "rf_auc_score_hyper = roc_auc_score(y_test, rf_prob_default_hyper)\n",
    "print('AUC Score: ' + str(rf_auc_score_hyper))"
   ]
  },
  {
   "cell_type": "markdown",
   "metadata": {},
   "source": [
    "**Kesimpulan:**\n",
    "\n",
    "Tidak ada peningkatan performa model machine learning setelah hyper-parameter tuning."
   ]
  },
  {
   "cell_type": "markdown",
   "metadata": {},
   "source": [
    "**C. XGBoost - Hyper-Parameter Tuning**"
   ]
  },
  {
   "cell_type": "code",
   "execution_count": 81,
   "metadata": {
    "ExecuteTime": {
     "end_time": "2020-06-23T09:16:46.965496Z",
     "start_time": "2020-06-23T09:16:46.959511Z"
    }
   },
   "outputs": [],
   "source": [
    "params = {'min_child_weight': [1, 5, 10], 'gamma': [0.5, 1, 1.5, 2, 5], 'subsample': [0.6, 0.8, 1.0],\n",
    "          'colsample_bytree': [0.6, 0.8, 1.0],'max_depth': [3, 4, 5]}"
   ]
  },
  {
   "cell_type": "code",
   "execution_count": 82,
   "metadata": {
    "ExecuteTime": {
     "end_time": "2020-06-23T10:04:14.662121Z",
     "start_time": "2020-06-23T09:16:46.968488Z"
    }
   },
   "outputs": [
    {
     "data": {
      "text/plain": [
       "GridSearchCV(cv=10, error_score=nan,\n",
       "             estimator=XGBClassifier(base_score=None, booster=None,\n",
       "                                     colsample_bylevel=None,\n",
       "                                     colsample_bynode=None,\n",
       "                                     colsample_bytree=None, gamma=None,\n",
       "                                     gpu_id=None, importance_type='gain',\n",
       "                                     interaction_constraints=None,\n",
       "                                     learning_rate=None, max_delta_step=None,\n",
       "                                     max_depth=None, min_child_weight=None,\n",
       "                                     missing=nan, monotone_constraints=None,\n",
       "                                     n_esti...\n",
       "                                     reg_lambda=None, scale_pos_weight=None,\n",
       "                                     subsample=None, tree_method=None,\n",
       "                                     validate_parameters=None, verbosity=None),\n",
       "             iid='deprecated', n_jobs=None,\n",
       "             param_grid={'colsample_bytree': [0.6, 0.8, 1.0],\n",
       "                         'gamma': [0.5, 1, 1.5, 2, 5], 'max_depth': [3, 4, 5],\n",
       "                         'min_child_weight': [1, 5, 10],\n",
       "                         'subsample': [0.6, 0.8, 1.0]},\n",
       "             pre_dispatch='2*n_jobs', refit=True, return_train_score=False,\n",
       "             scoring=None, verbose=0)"
      ]
     },
     "execution_count": 82,
     "metadata": {},
     "output_type": "execute_result"
    }
   ],
   "source": [
    "model_gbt = xgb.XGBClassifier()\n",
    "model_gbt_gs = GridSearchCV(model_gbt, params, cv = 10)\n",
    "model_gbt_gs.fit(X_train, y_train)"
   ]
  },
  {
   "cell_type": "code",
   "execution_count": 83,
   "metadata": {
    "ExecuteTime": {
     "end_time": "2020-06-23T10:04:14.673093Z",
     "start_time": "2020-06-23T10:04:14.666111Z"
    }
   },
   "outputs": [
    {
     "data": {
      "text/plain": [
       "{'colsample_bytree': 0.8,\n",
       " 'gamma': 0.5,\n",
       " 'max_depth': 5,\n",
       " 'min_child_weight': 1,\n",
       " 'subsample': 1.0}"
      ]
     },
     "execution_count": 83,
     "metadata": {},
     "output_type": "execute_result"
    }
   ],
   "source": [
    "model_gbt_gs.best_params_"
   ]
  },
  {
   "cell_type": "code",
   "execution_count": 84,
   "metadata": {
    "ExecuteTime": {
     "end_time": "2020-06-23T10:04:15.482928Z",
     "start_time": "2020-06-23T10:04:14.676085Z"
    }
   },
   "outputs": [
    {
     "name": "stdout",
     "output_type": "stream",
     "text": [
      "   loan_status  prob_default\n",
      "0            0      0.310116\n",
      "1            0      0.030535\n",
      "2            0      0.122475\n",
      "3            0      0.078221\n",
      "4            0      0.045618\n",
      "5            0      0.163706\n",
      "6            0      0.059955\n",
      "7            0      0.136724\n",
      "8            0      0.005276\n",
      "9            1      0.368646\n"
     ]
    }
   ],
   "source": [
    "# Create and train a new XGBoost\n",
    "gbt_hyper = xgb.XGBClassifier(colsample_bytree = 0.8, gamma = 0.5, max_depth = 5, \n",
    "                              min_child_weight = 1, subsample = 1.0).fit(X_train, y_train)\n",
    "\n",
    "# Create predictions of probability for loan status using test data\n",
    "gbt_preds_hyper = gbt_hyper.predict_proba(X_test)\n",
    "\n",
    "# Create dataframes of first ten predictions, and first ten true labels\n",
    "gbt_preds_df_hyper = pd.DataFrame(gbt_preds_hyper[:,1][:10], columns = ['prob_default'])\n",
    "gbt_true_df_hyper = y_test.head(10)\n",
    "\n",
    "# Concatenate and print the two data frames for comparison\n",
    "print(pd.concat([gbt_true_df_hyper.reset_index(drop = True), gbt_preds_df_hyper], axis = 1))"
   ]
  },
  {
   "cell_type": "code",
   "execution_count": 85,
   "metadata": {
    "ExecuteTime": {
     "end_time": "2020-06-23T10:04:15.771306Z",
     "start_time": "2020-06-23T10:04:15.485921Z"
    }
   },
   "outputs": [
    {
     "name": "stdout",
     "output_type": "stream",
     "text": [
      "\n",
      "\u001b[1m------------------ Classification Report -------------------\u001b[0m\n",
      "\n",
      "              precision    recall  f1-score   support\n",
      "\n",
      " Non-Default       0.91      0.92      0.92      7619\n",
      "     Default       0.72      0.69      0.71      2154\n",
      "\n",
      "    accuracy                           0.87      9773\n",
      "   macro avg       0.82      0.81      0.81      9773\n",
      "weighted avg       0.87      0.87      0.87      9773\n",
      "\n",
      "\n",
      "\u001b[1m--------------------- Confusion Matrix ---------------------\u001b[0m\n",
      "\n"
     ]
    },
    {
     "data": {
      "text/plain": [
       "<matplotlib.axes._subplots.AxesSubplot at 0x27789806408>"
      ]
     },
     "execution_count": 85,
     "metadata": {},
     "output_type": "execute_result"
    },
    {
     "data": {
      "image/png": "[encoded data removed]",
      "text/plain": [
       "<Figure size 432x288 with 2 Axes>"
      ]
     },
     "metadata": {},
     "output_type": "display_data"
    }
   ],
   "source": [
    "# Create a dataframe for the probabilities of default\n",
    "gbt_preds_df_hyper = pd.DataFrame(gbt_preds_hyper[:,1], columns = ['prob_default'])\n",
    "\n",
    "# Reassign loan status based on the threshold\n",
    "gbt_preds_df_hyper['loan_status'] = gbt_preds_df_hyper['prob_default'].apply(lambda x: 1 if x > 0.4 else 0)\n",
    "\n",
    "# Print the classification report\n",
    "target_names = ['Non-Default', 'Default']\n",
    "print('\\n' + '\\033[1m' + ' Classification Report '.center(60,'-') + '\\033[0m' + '\\n')\n",
    "print(classification_report(y_test, gbt_preds_df_hyper['loan_status'], target_names=target_names))\n",
    "\n",
    "# Print the confusion matrix\n",
    "print('\\n' + '\\033[1m' + ' Confusion Matrix '.center(60,'-') + '\\033[0m' + '\\n')\n",
    "sns.heatmap(confusion_matrix(y_test, lr_preds_df_hyper['loan_status']), cmap='coolwarm', fmt='.4g', annot=True)"
   ]
  },
  {
   "cell_type": "code",
   "execution_count": 86,
   "metadata": {
    "ExecuteTime": {
     "end_time": "2020-06-23T10:04:16.054427Z",
     "start_time": "2020-06-23T10:04:15.774302Z"
    }
   },
   "outputs": [
    {
     "data": {
      "image/png": "[encoded data removed]",
      "text/plain": [
       "<Figure size 432x288 with 1 Axes>"
      ]
     },
     "metadata": {},
     "output_type": "display_data"
    },
    {
     "name": "stdout",
     "output_type": "stream",
     "text": [
      "Accuracy Score: 0.8745523380742863\n",
      "AUC Score: 0.9037603969356285\n"
     ]
    }
   ],
   "source": [
    "# Plot the ROC curve of the probabilities of default\n",
    "gbt_prob_default_hyper = gbt_preds_hyper[:,1]\n",
    "fallout, sensitivity, thresholds = roc_curve(y_test, gbt_prob_default_hyper)\n",
    "plt.plot(fallout, sensitivity, color = 'darkorange')\n",
    "plt.plot([0, 1], [0, 1], linestyle='--')\n",
    "plt.show()\n",
    "\n",
    "# Print the accuracy score the model\n",
    "gbt_acc_score_hyper = gbt.score(X_test, y_test)\n",
    "print('Accuracy Score: ' + str(gbt_acc_score_hyper))\n",
    "\n",
    "# Compute the AUC and store it in a variable\n",
    "gbt_auc_score_hyper = roc_auc_score(y_test, gbt_prob_default_hyper)\n",
    "print('AUC Score: ' + str(gbt_auc_score_hyper))"
   ]
  },
  {
   "cell_type": "markdown",
   "metadata": {},
   "source": [
    "**Kesimpulan:**\n",
    "\n",
    "Tidak ada peningkatan performa model machine learning setelah hyper-parameter tuning."
   ]
  },
  {
   "cell_type": "markdown",
   "metadata": {},
   "source": [
    "### MODEL EVALUATION & IMPLEMENTATION\n",
    "<a id=\"model_evaluation\" > </a>"
   ]
  },
  {
   "cell_type": "markdown",
   "metadata": {
    "ExecuteTime": {
     "end_time": "2020-06-18T01:20:02.526262Z",
     "start_time": "2020-06-18T01:20:02.517577Z"
    }
   },
   "source": [
    "**1. Comparing Model Report**\n",
    "<a id=\"comparing_model_report\" > </a>"
   ]
  },
  {
   "cell_type": "code",
   "execution_count": 87,
   "metadata": {
    "ExecuteTime": {
     "end_time": "2020-06-23T10:04:16.149557Z",
     "start_time": "2020-06-23T10:04:16.057417Z"
    }
   },
   "outputs": [
    {
     "name": "stdout",
     "output_type": "stream",
     "text": [
      "\n",
      "\u001b[1m------------------- Logistic Regression --------------------\u001b[0m\n",
      "\n",
      "              precision    recall  f1-score   support\n",
      "\n",
      " Non-Default       0.87      0.91      0.89      7619\n",
      "     Default       0.62      0.52      0.57      2154\n",
      "\n",
      "    accuracy                           0.82      9773\n",
      "   macro avg       0.74      0.72      0.73      9773\n",
      "weighted avg       0.81      0.82      0.82      9773\n",
      "\n",
      "\n",
      "\u001b[1m----------------- Random Forest Classifier -----------------\u001b[0m\n",
      "\n",
      "              precision    recall  f1-score   support\n",
      "\n",
      " Non-Default       0.91      0.92      0.92      7619\n",
      "     Default       0.70      0.70      0.70      2154\n",
      "\n",
      "    accuracy                           0.87      9773\n",
      "   macro avg       0.81      0.81      0.81      9773\n",
      "weighted avg       0.87      0.87      0.87      9773\n",
      "\n",
      "\n",
      "\u001b[1m------------------------- XGBoost --------------------------\u001b[0m\n",
      "\n",
      "              precision    recall  f1-score   support\n",
      "\n",
      " Non-Default       0.91      0.92      0.92      7619\n",
      "     Default       0.72      0.69      0.71      2154\n",
      "\n",
      "    accuracy                           0.87      9773\n",
      "   macro avg       0.82      0.81      0.81      9773\n",
      "weighted avg       0.87      0.87      0.87      9773\n",
      "\n"
     ]
    }
   ],
   "source": [
    "# Print the logistic regression classification report\n",
    "print('\\n' + '\\033[1m' + ' Logistic Regression '.center(60,'-') + '\\033[0m' + '\\n')\n",
    "target_names = ['Non-Default', 'Default']\n",
    "print(classification_report(y_test, lr_preds_df_hyper['loan_status'], target_names=target_names))\n",
    "\n",
    "# Print the random forest classifier classification report\n",
    "print('\\n' + '\\033[1m' + ' Random Forest Classifier '.center(60,'-') + '\\033[0m' + '\\n')\n",
    "print(classification_report(y_test, rf_preds_df_hyper['loan_status'], target_names=target_names))\n",
    "\n",
    "# Print the gradient boosted tree classification report\n",
    "print('\\n' + '\\033[1m' + ' XGBoost '.center(60,'-') + '\\033[0m' + '\\n')\n",
    "print(classification_report(y_test, gbt_preds_df_hyper['loan_status'], target_names=target_names))"
   ]
  },
  {
   "cell_type": "markdown",
   "metadata": {},
   "source": [
    "**2. Comparing with ROC**\n",
    "<a id=\"comparing_with_roc\" > </a>"
   ]
  },
  {
   "cell_type": "code",
   "execution_count": 88,
   "metadata": {
    "ExecuteTime": {
     "end_time": "2020-06-23T10:04:16.522878Z",
     "start_time": "2020-06-23T10:04:16.152557Z"
    }
   },
   "outputs": [
    {
     "data": {
      "image/png": "[encoded data removed]",
      "text/plain": [
       "<Figure size 432x288 with 1 Axes>"
      ]
     },
     "metadata": {},
     "output_type": "display_data"
    }
   ],
   "source": [
    "# ROC chart components\n",
    "fallout_lr, sensitivity_lr, thresholds_lr = roc_curve(y_test, lr_preds_hyper[:,1])\n",
    "fallout_rf, sensitivity_rf, thresholds_rf = roc_curve(y_test, rf_preds_hyper[:,1])\n",
    "fallout_gbt, sensitivity_gbt, thresholds_gbt = roc_curve(y_test, gbt_preds_hyper[:,1])\n",
    "\n",
    "# ROC Chart with both\n",
    "plt.plot(fallout_lr, sensitivity_lr, color = 'blue', label='%s' % 'Logistic Regression')\n",
    "plt.plot(fallout_rf, sensitivity_rf, color = 'green', label='%s' % 'Random Forest')\n",
    "plt.plot(fallout_gbt, sensitivity_gbt, color = 'orange', label='%s' % 'GBT')\n",
    "plt.plot([0, 1], [0, 1], linestyle='--', label='%s' % 'Random Prediction')\n",
    "plt.title(\"ROC Chart for LR, RF, and GBT on the Probability of Default\")\n",
    "plt.xlabel('Fall-out')\n",
    "plt.ylabel('Sensitivity')\n",
    "plt.legend()\n",
    "plt.show()"
   ]
  },
  {
   "cell_type": "markdown",
   "metadata": {},
   "source": [
    "**3. Acceptance Rates**\n",
    "<a id=\"acceptance_rates\" > </a>"
   ]
  },
  {
   "cell_type": "markdown",
   "metadata": {},
   "source": [
    "Menentukan presentase penerimaan pinjaman baru (accepted loan)."
   ]
  },
  {
   "cell_type": "code",
   "execution_count": 89,
   "metadata": {
    "ExecuteTime": {
     "end_time": "2020-06-23T10:04:16.561994Z",
     "start_time": "2020-06-23T10:04:16.526867Z"
    }
   },
   "outputs": [
    {
     "name": "stdout",
     "output_type": "stream",
     "text": [
      "count    9773.000000\n",
      "mean        0.221602\n",
      "std         0.289740\n",
      "min         0.000475\n",
      "25%         0.025211\n",
      "50%         0.075963\n",
      "75%         0.300950\n",
      "max         0.999714\n",
      "Name: prob_default, dtype: float64\n",
      "\n",
      "\n",
      "Total loan received is\n",
      "9773\n",
      "\n",
      "\n",
      "loan status\n",
      "0    8307\n",
      "1    1466\n",
      "Name: loan_status_accepted, dtype: int64\n"
     ]
    }
   ],
   "source": [
    "# Check the statistics of the probabilities of default\n",
    "print(gbt_preds_df_hyper['prob_default'].describe())\n",
    "print('\\n')\n",
    "\n",
    "# Calculate the threshold for a 85% acceptance rate\n",
    "threshold_85 = np.quantile(gbt_preds_df_hyper['prob_default'], 0.85)\n",
    "\n",
    "# Apply acceptance rate threshold\n",
    "gbt_preds_df_hyper['loan_status_accepted'] = gbt_preds_df_hyper['prob_default'].apply(lambda x: 1 if x > threshold_85 else 0)\n",
    "\n",
    "# Print the total loan accepted\n",
    "print('Total loan received is')\n",
    "print(sum(gbt_preds_df_hyper['loan_status_accepted'].value_counts()))\n",
    "print('\\n')\n",
    "\n",
    "# Print the counts of loan status accepted\n",
    "print('loan status')\n",
    "print(gbt_preds_df_hyper['loan_status_accepted'].value_counts())"
   ]
  },
  {
   "cell_type": "markdown",
   "metadata": {},
   "source": [
    "**Kesimpulan:**\n",
    "\n",
    "Dari seluruh total pinjaman yang diterima ada 8307 yang statusnya non-default dan 1466 default."
   ]
  },
  {
   "cell_type": "markdown",
   "metadata": {},
   "source": [
    "**Visualizing Acceptance Rates**"
   ]
  },
  {
   "cell_type": "code",
   "execution_count": 90,
   "metadata": {
    "ExecuteTime": {
     "end_time": "2020-06-23T10:04:16.911712Z",
     "start_time": "2020-06-23T10:04:16.564986Z"
    }
   },
   "outputs": [
    {
     "data": {
      "image/png": "[encoded data removed]",
      "text/plain": [
       "<Figure size 576x360 with 1 Axes>"
      ]
     },
     "metadata": {},
     "output_type": "display_data"
    }
   ],
   "source": [
    "# Plot the predicted probabilities of default\n",
    "plt.figure(figsize=(8,5))\n",
    "plt.hist(gbt_preds_df_hyper['prob_default'], color = 'blue', bins = 40)\n",
    "plt.title('Histogram Probability of Default')\n",
    "plt.xlabel('Predicted Probability of Default')\n",
    "plt.ylabel('Number of Loans')\n",
    "\n",
    "# Calculate the threshold with quantile\n",
    "threshold = np.quantile(gbt_preds_df_hyper['prob_default'], 0.85)\n",
    "\n",
    "# Add a reference line to the plot for the threshold\n",
    "plt.axvline(x = threshold, color = 'red')\n",
    "plt.show()"
   ]
  },
  {
   "cell_type": "markdown",
   "metadata": {},
   "source": [
    "**Keterangan:**\n",
    "  \n",
    "* Sisi kiri dari garis merah adalah pinjaman yang diterima\n",
    "* Sisi kanan dari garis merah adalah pinjaman yang ditolak\n",
    "\n",
    "Dari visualisasi diatas dapat diketahui jumlah pinjaman yang ditolak dan diterima berdasarkan treshold tertentu."
   ]
  },
  {
   "cell_type": "markdown",
   "metadata": {},
   "source": [
    "**4. Bad Rates**\n",
    "<a id=\"bad_rates\" > </a>\n",
    "\n",
    "Menghitung persentase pinjaman **default** dari seluruh pinjaman yang diterima.\n",
    "\n",
    "* **Rumus:**\n",
    "\n",
    "    Bad Rate = Accepted Default / Total Accepted Loans"
   ]
  },
  {
   "cell_type": "code",
   "execution_count": 91,
   "metadata": {
    "ExecuteTime": {
     "end_time": "2020-06-23T10:04:16.928630Z",
     "start_time": "2020-06-23T10:04:16.914672Z"
    }
   },
   "outputs": [
    {
     "data": {
      "text/plain": [
       "0.15"
      ]
     },
     "execution_count": 91,
     "metadata": {},
     "output_type": "execute_result"
    }
   ],
   "source": [
    "# Create a subset of only accepted loans\n",
    "num_of_default = gbt_preds_df_hyper[gbt_preds_df_hyper['loan_status_accepted'] == 1]['loan_status_accepted'].sum()\n",
    "num_of_accepted_loan = gbt_preds_df_hyper['loan_status_accepted'].value_counts().sum()\n",
    "\n",
    "# Calculate the bad rate\n",
    "bad_rate = np.sum(num_of_default / num_of_accepted_loan).round(2)\n",
    "bad_rate"
   ]
  },
  {
   "cell_type": "markdown",
   "metadata": {},
   "source": [
    "**Kesimpulan:**\n",
    "    \n",
    "Total persentase dari seluruh pinjaman yang diterima ada 15% yang default"
   ]
  },
  {
   "cell_type": "markdown",
   "metadata": {},
   "source": [
    "**5. Expected Loss**\n",
    "<a id=\"expected_loss\" > </a>"
   ]
  },
  {
   "cell_type": "markdown",
   "metadata": {},
   "source": [
    "**Rumus:** \n",
    "\n",
    "Expected Loss = PD x LGD x EAD\n",
    "\n",
    "* **Probability of Default (PD):** Besarnya kemungkinan debitur default\n",
    "\n",
    "* **Loss Given Default (LGD):** Estimasi potensi kerugian jika terjadi default. Besar LGD adalah (1 - *recovery rate*). *recovery rate* adalah pengembalian kredit setelah dilakukan upaya penagihan atau penjualan agunan atas kredit macet.\n",
    "\n",
    "* **Exposure at Default:** Estimasi besarnya eksposure kredt pada saat default."
   ]
  },
  {
   "cell_type": "code",
   "execution_count": 94,
   "metadata": {
    "ExecuteTime": {
     "end_time": "2020-06-23T11:09:25.602904Z",
     "start_time": "2020-06-23T11:09:25.588149Z"
    }
   },
   "outputs": [],
   "source": [
    "# LGD = Berdasarkan rata-rata total loan amount\n",
    "gbt_preds_df_hyper['exposure_at_default'] = X_test['loan_amnt'].copy().mean()\n",
    "\n",
    "# EAD = Asumsi bahwa setiap pinjaman yang default akan loss 100%\n",
    "LGD = [1.0] * 9773 # Jumlah debitur\n",
    "gbt_preds_df_hyper['loss_given_default'] = LGD"
   ]
  },
  {
   "cell_type": "code",
   "execution_count": 95,
   "metadata": {
    "ExecuteTime": {
     "end_time": "2020-06-23T11:09:26.906278Z",
     "start_time": "2020-06-23T11:09:26.894655Z"
    }
   },
   "outputs": [
    {
     "name": "stdout",
     "output_type": "stream",
     "text": [
      "Total expected loss:  $20,770,867.13\n"
     ]
    }
   ],
   "source": [
    "# Calculate the bank's expected loss and assign it to a new column\n",
    "gbt_preds_df_hyper['expected_loss'] = gbt_preds_df_hyper['prob_default'] * gbt_preds_df_hyper['loss_given_default'] * gbt_preds_df_hyper['exposure_at_default']\n",
    "\n",
    "# Calculate the total expected loss to two decimal places\n",
    "tot_exp_loss = round(np.sum(gbt_preds_df_hyper['expected_loss']),2)\n",
    "\n",
    "# Print the total expected loss\n",
    "print('Total expected loss: ', '${:,.2f}'.format(tot_exp_loss))"
   ]
  },
  {
   "cell_type": "markdown",
   "metadata": {},
   "source": [
    "**Overall Conclusion:**\n",
    "\n",
    "Project ini masih berfokus pada memprediksi probability of default (PD), sehingga EAD dan LGD masih menggunakan asumsi bahwa setiap debitur yang default akan loss 100% dari nilai pinjaman sehingga kedepannya masih bisa disempurnakan, contohnya dengan memprediksi besaran EAD dan LGD dari setiap debitur yang default menggunakan linear regression agar hasil expected loss lebih akurat."
   ]
  }
 ],
 "metadata": {
  "kernelspec": {
   "display_name": "Python 3",
   "language": "python",
   "name": "python3"
  },
  "language_info": {
   "codemirror_mode": {
    "name": "ipython",
    "version": 3
   },
   "file_extension": ".py",
   "mimetype": "text/x-python",
   "name": "python",
   "nbconvert_exporter": "python",
   "pygments_lexer": "ipython3",
   "version": "3.7.4"
  },
  "varInspector": {
   "cols": {
    "lenName": 16,
    "lenType": 16,
    "lenVar": 40
   },
   "kernels_config": {
    "python": {
     "delete_cmd_postfix": "",
     "delete_cmd_prefix": "del ",
     "library": "var_list.py",
     "varRefreshCmd": "print(var_dic_list())"
    },
    "r": {
     "delete_cmd_postfix": ") ",
     "delete_cmd_prefix": "rm(",
     "library": "var_list.r",
     "varRefreshCmd": "cat(var_dic_list()) "
    }
   },
   "types_to_exclude": [
    "module",
    "function",
    "builtin_function_or_method",
    "instance",
    "_Feature"
   ],
   "window_display": false
  }
 },
 "nbformat": 4,
 "nbformat_minor": 2
}
